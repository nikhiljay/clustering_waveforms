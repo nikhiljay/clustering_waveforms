{
 "cells": [
  {
   "cell_type": "markdown",
   "metadata": {
    "id": "kvj3VuFa6hwP"
   },
   "source": [
    "# Download Earthquake Waveforms\n",
    "This notebook demonstrates the workflow to download earthquake waveforms using SeisGo functions (https://github.com/xtyangpsp/SeisGo). Specifically, we will import the `seisgo.downloaders` package to download earthquake information and the waveforms. To run this notebook, you can follow the instructions on the SeisGo github page to set up the environment."
   ]
  },
  {
   "cell_type": "code",
   "execution_count": 1,
   "metadata": {
    "executionInfo": {
     "elapsed": 2094,
     "status": "ok",
     "timestamp": 1622950940027,
     "user": {
      "displayName": "Nikhil D'Souza",
      "photoUrl": "https://lh4.googleusercontent.com/-0TXLe0wZdaI/AAAAAAAAAAI/AAAAAAAABWQ/xa74mUh7IeI/s64/photo.jpg",
      "userId": "16134268892887182036"
     },
     "user_tz": 420
    },
    "id": "VFT48VnH6hwR"
   },
   "outputs": [],
   "source": [
    "from obspy import UTCDateTime,read_events\n",
    "from seisgo import downloaders as dld\n",
    "from seisgo import utils"
   ]
  },
  {
   "cell_type": "markdown",
   "metadata": {
    "id": "lLic9HnU6hwR"
   },
   "source": [
    "## 1. Get the information of the example seismic station\n",
    "We use `seisgo.downloaders` function `get_sta_list()` to download the station list (a Pandas dateframe).\n"
   ]
  },
  {
   "cell_type": "code",
   "execution_count": 2,
   "metadata": {
    "colab": {
     "base_uri": "https://localhost:8080/"
    },
    "executionInfo": {
     "elapsed": 461,
     "status": "ok",
     "timestamp": 1622952617039,
     "user": {
      "displayName": "Nikhil D'Souza",
      "photoUrl": "https://lh4.googleusercontent.com/-0TXLe0wZdaI/AAAAAAAAAAI/AAAAAAAABWQ/xa74mUh7IeI/s64/photo.jpg",
      "userId": "16134268892887182036"
     },
     "user_tz": 420
    },
    "id": "LLBwdpQK6hwS",
    "outputId": "1862d991-863f-4c85-837c-008953405d18"
   },
   "outputs": [],
   "source": [
    "# =========================================================================\n",
    "#Station list parameters\n",
    "source = 'IRIS'\n",
    "start = \"2010-01-01\"\n",
    "end = \"2021-06-01\"\n",
    "\n",
    "net='NM' # TA\n",
    "sta='BLO' # SFIN\n",
    "chan='BHZ'\n",
    "\n",
    "#get station information first\n",
    "starttime=UTCDateTime(start)\n",
    "endtime=UTCDateTime(end)\n",
    "stainfo=dld.get_sta_list(net,sta,chan,starttime=starttime,endtime=endtime)"
   ]
  },
  {
   "cell_type": "markdown",
   "metadata": {
    "id": "f7lMdWcs6hwS"
   },
   "source": [
    "## 2. Get the waveforms for example earthquakes at this station\n",
    "In the cell below, we call `downloaders.get_events()` to download the earthquake catalog. Then we call `downloaders.get_event_waveforms` to download the seismic waveform segments for those earthquakes at the example station. This function returns a list of ObsPy Stream objects and a list of event id for the waveforms."
   ]
  },
  {
   "cell_type": "code",
   "execution_count": 3,
   "metadata": {},
   "outputs": [],
   "source": [
    "import numpy as np\n",
    "import time\n",
    "\n",
    "def get_events(start,end,lon,lat,radius,minmag,maxmag,magstep=1.0,source=\"USGS\",v=False):\n",
    "    #elist is a list of panda dataframes\n",
    "    t0=time.time()\n",
    "\n",
    "    #Download the catalog by magnitudes\n",
    "    maglist=np.arange(minmag,maxmag+0.5*magstep,magstep)\n",
    "    events=[]\n",
    "    for i in range(len(maglist)-1):\n",
    "        if i>0:\n",
    "            minM=str(maglist[i]+0.0001) #to avoid duplicates with intersecting magnitude thresholds\n",
    "        else:\n",
    "            minM=str(maglist[i])\n",
    "        maxM=str(maglist[i+1])\n",
    "        if v: print(minM,maxM)\n",
    "        if(source==\"ISC\"):\n",
    "            quake_url=\"http://isc-mirror.iris.washington.edu/fdsnws/event/1/query?starttime=\"+\\\n",
    "            start+\"&endtime=\"+end+\"&latitude=\"+str(lat)+\"&longitude=\"+str(lon)+\"&maxradius=\"+\\\n",
    "            str(radius)+\"&minmagnitude=\"+minM+\"&maxmagnitude=\"+maxM+\"\"\n",
    "        elif(source==\"USGS\"):\n",
    "            quake_url=\"https://earthquake.usgs.gov/fdsnws/event/1/query?format=xml&starttime=\"+\\\n",
    "            start+\"&endtime=\"+end+\"&minmagnitude=\"+minM+\"&maxmagnitude=\"+maxM+\"&latitude=\"+\\\n",
    "            str(lat)+\"&longitude=\"+str(lon)+\"&maxradius=\"+str(radius)+\"\"\n",
    "\n",
    "        try:\n",
    "            event = read_events(quake_url)\n",
    "            if v: print(\"Catalog: \" + str(event.count()))\n",
    "            events.append(event)\n",
    "        except Exception as e:\n",
    "            print(e)\n",
    "\n",
    "    catalog = events[0]\n",
    "    for i in np.arange(1,len(events)):\n",
    "            catalog.extend(events[i])\n",
    "    #Print the data frame, display total, and total time to complete task\n",
    "    if v: print(\"It took \"+str(time.time()-t0)+\" seconds to download the catalog\")\n",
    "\n",
    "    return catalog"
   ]
  },
  {
   "cell_type": "code",
   "execution_count": 4,
   "metadata": {},
   "outputs": [],
   "source": [
    "# start = \"2015-01-01\"\n",
    "# end = \"2018-01-01\"\n",
    "# minlat = 50\n",
    "# maxlat = 74\n",
    "# minlon=-175\n",
    "# maxlon=-135\n",
    "# minmag = 6\n",
    "# maxmag = 10\n",
    "# magstep = 2.0\n",
    "# catalog = dld.get_events(start,end,minlon,maxlon,minlat,maxlat,minmag,maxmag,magstep)\n",
    "# print(catalog)"
   ]
  },
  {
   "cell_type": "code",
   "execution_count": 5,
   "metadata": {
    "colab": {
     "base_uri": "https://localhost:8080/",
     "height": 368
    },
    "executionInfo": {
     "elapsed": 1041,
     "status": "error",
     "timestamp": 1622950964987,
     "user": {
      "displayName": "Nikhil D'Souza",
      "photoUrl": "https://lh4.googleusercontent.com/-0TXLe0wZdaI/AAAAAAAAAAI/AAAAAAAABWQ/xa74mUh7IeI/s64/photo.jpg",
      "userId": "16134268892887182036"
     },
     "user_tz": 420
    },
    "id": "5eVyQ8UW6hwS",
    "outputId": "5dd37fa9-4a91-4221-a8ba-128e26975a70"
   },
   "outputs": [
    {
     "name": "stdout",
     "output_type": "stream",
     "text": [
      "99 Event(s) in Catalog:\n",
      "2019-12-24T16:43:33.420000Z | -26.964,  -63.386 | 6.0 mww | manual\n",
      "2019-11-04T21:53:25.320000Z | -31.836,  -71.375 | 6.1 mww | manual\n",
      "...\n",
      "2015-09-16T22:54:32.860000Z | -31.573,  -71.674 | 8.3 mww | manual\n",
      "2010-02-27T06:34:11.530000Z | -36.122,  -72.898 | 8.8 mww | manual\n",
      "To see all events call 'print(CatalogObject.__str__(print_all=True))'\n"
     ]
    }
   ],
   "source": [
    "#Download Catalog\n",
    "start = \"2010-01-01\"\n",
    "end = \"2020-01-01\"\n",
    "lat = -31.573\n",
    "lon = -71.674\n",
    "radius = 10 # degrees\n",
    "minmag = 6\n",
    "maxmag = 10\n",
    "magstep = 2.0\n",
    "catalog = get_events(start,end,lon,lat,radius,minmag,maxmag,magstep)\n",
    "print(catalog)"
   ]
  },
  {
   "cell_type": "markdown",
   "metadata": {
    "id": "bFbVq8Uh6hwT"
   },
   "source": [
    "## The following example returns the earthquake waveforms in a list of ObsPy Trace objects. Set argument `savetofile=True` will save the data into HDF5 files.\n",
    "\n",
    "`get_event_waveforms()` downloads one event at a time for all stations. We use a for loop here to download all earthquakes in the `catalog`."
   ]
  },
  {
   "cell_type": "code",
   "execution_count": 6,
   "metadata": {
    "id": "8v06pOAC6hwT",
    "outputId": "b3503dc9-a80e-4722-d416-c75ccb939c2a",
    "scrolled": false
   },
   "outputs": [
    {
     "name": "stdout",
     "output_type": "stream",
     "text": [
      "downloading 2019-12-24T16:43:33.420000Z | -26.964,  -63.386 | 6.0 mww | manual\n",
      "downloading 2019-11-04T21:53:25.320000Z | -31.836,  -71.375 | 6.1 mww | manual\n",
      "downloading 2019-09-29T15:57:53.236000Z | -35.476,  -73.163 | 6.7 mww | manual\n",
      "downloading 2019-09-26T16:36:18.155000Z | -40.815,  -71.999 | 6.1 mww | manual\n",
      "downloading 2019-08-01T18:28:07.270000Z | -34.236,  -72.310 | 6.8 mww | manual\n",
      "downloading 2019-06-14T00:19:12.401000Z | -30.056,  -72.082 | 6.4 mww | manual\n",
      "downloading 2019-01-20T01:32:52.480000Z | -30.040,  -71.382 | 6.7 mww | manual\n",
      "downloading 2018-04-10T10:19:34.370000Z | -31.026,  -71.529 | 6.2 mww | manual\n",
      "downloading 2017-04-24T21:38:30.820000Z | -33.038,  -72.062 | 6.9 mww | manual\n",
      "downloading 2017-04-23T02:36:07.830000Z | -33.035,  -72.030 | 6.0 mww | manual\n",
      "downloading 2017-04-15T08:19:43.390000Z | -23.265,  -67.722 | 6.3 mww | manual\n",
      "downloading 2017-02-18T12:10:17.970000Z | -23.861,  -66.659 | 6.4 mww | manual\n",
      "downloading 2016-11-20T20:57:44.000000Z | -31.623,  -68.626 | 6.4 mww | manual\n",
      "downloading 2016-11-08T04:55:45.900000Z | -36.578,  -73.560 | 6.0 mww | manual\n",
      "downloading 2016-11-04T16:20:44.440000Z | -35.094,  -71.046 | 6.3 mww | manual\n",
      "downloading 2016-10-27T20:32:55.790000Z | -33.777,  -72.532 | 6.0 mww | manual\n",
      "downloading 2016-07-25T17:26:50.210000Z | -26.107,  -70.511 | 6.1 mww | manual\n",
      "downloading 2016-02-22T06:36:59.400000Z | -30.424,  -72.297 | 6.0 mww | manual\n",
      "downloading 2016-02-10T00:33:05.340000Z | -30.572,  -71.584 | 6.3 mww | manual\n",
      "downloading 2015-11-27T21:00:22.920000Z | -24.828,  -70.601 | 6.2 mww | manual\n",
      "downloading 2015-11-11T02:46:19.830000Z | -29.510,  -72.058 | 6.9 mww | manual\n",
      "downloading 2015-11-11T01:54:38.570000Z | -29.507,  -72.007 | 6.9 mww | manual\n",
      "downloading 2015-11-07T07:31:43.870000Z | -30.880,  -71.452 | 6.8 mww | manual\n",
      "downloading 2015-11-07T07:04:31.380000Z | -29.464,  -72.302 | 6.2 mww | manual\n",
      "downloading 2015-09-26T02:51:18.830000Z | -30.815,  -71.322 | 6.3 mww | manual\n",
      "downloading 2015-09-22T07:13:00.520000Z | -31.444,  -71.265 | 6.0 mww | manual\n",
      "downloading 2015-09-21T17:40:00.060000Z | -31.727,  -71.379 | 6.6 mww | manual\n",
      "downloading 2015-09-21T05:39:34.910000Z | -31.576,  -71.743 | 6.1 mww | manual\n",
      "downloading 2015-09-19T12:52:20.920000Z | -32.334,  -72.063 | 6.2 mww | manual\n",
      "downloading 2015-09-19T05:06:47.500000Z | -29.641,  -72.077 | 6.1 mww | manual\n",
      "downloading 2015-09-18T09:10:44.730000Z | -32.368,  -72.229 | 6.2 mww | manual\n",
      "downloading 2015-09-17T04:10:27.780000Z | -31.517,  -71.804 | 6.7 mww | manual\n",
      "downloading 2015-09-17T03:55:15.430000Z | -31.424,  -71.688 | 6.5 mww | manual\n",
      "downloading 2015-09-17T01:41:05.870000Z | -31.104,  -71.650 | 6.4 mww | manual\n",
      "downloading 2015-09-16T23:18:41.850000Z | -31.562,  -71.426 | 7.0 mww | manual\n",
      "downloading 2015-09-16T23:16:09.440000Z | -31.600,  -71.919 | 6.1 mb | manual\n",
      "downloading 2015-09-16T23:03:56.560000Z | -31.750,  -71.743 | 6.1 mwr | manual\n",
      "downloading 2015-09-16T22:59:15.000000Z | -31.618,  -71.745 | 6.4 mb | manual\n",
      "downloading 2015-06-20T02:10:07.100000Z | -36.360,  -73.812 | 6.4 mww | manual\n",
      "downloading 2015-06-10T13:52:09.770000Z | -22.400,  -68.432 | 6.0 mww | manual\n",
      "downloading 2015-03-18T18:27:29.500000Z | -36.117,  -73.522 | 6.2 mww | manual\n",
      "downloading 2015-02-11T18:57:22.460000Z | -23.113,  -66.688 | 6.7 mww | manual\n",
      "downloading 2015-02-02T10:49:48.530000Z | -32.718,  -67.123 | 6.3 mww | manual\n",
      "downloading 2014-09-24T11:16:15.010000Z | -23.801,  -66.632 | 6.2 mww | manual\n",
      "downloading 2014-08-23T22:32:23.320000Z | -32.695,  -71.442 | 6.4 mww | manual\n",
      "downloading 2013-10-31T23:03:59.720000Z | -30.292,  -71.522 | 6.6 mww | manual\n",
      "downloading 2013-10-30T02:51:47.000000Z | -35.314,  -73.395 | 6.2 mww | manual\n",
      "downloading 2013-02-22T12:01:58.200000Z | -27.932,  -63.097 | 6.1 mww | manual\n",
      "downloading 2013-01-30T20:15:43.340000Z | -28.094,  -70.653 | 6.8 mww | manual\n",
      "downloading 2012-11-14T19:02:06.120000Z | -29.118,  -71.190 | 6.1 mww | manual\n",
      "downloading 2012-06-07T04:05:04.520000Z | -36.074,  -70.570 | 6.0 mww | manual\n",
      "downloading 2012-05-28T05:07:23.450000Z | -28.043,  -63.094 | 6.7 mww | manual\n",
      "downloading 2012-04-17T03:50:15.610000Z | -32.625,  -71.365 | 6.7 mww | manual\n",
      "downloading 2012-03-25T22:37:06.000000Z | -35.200,  -72.217 | 7.1 mww | manual\n",
      "downloading 2012-03-05T07:46:10.040000Z | -28.246,  -63.294 | 6.1 mww | manual\n",
      "downloading 2012-01-23T16:04:52.980000Z | -36.409,  -73.030 | 6.1 mww | manual\n",
      "downloading 2011-12-07T22:23:09.730000Z | -27.899,  -70.918 | 6.1 mww | manual\n",
      "downloading 2011-09-02T13:47:09.620000Z | -28.398,  -63.029 | 6.7 mww | manual\n",
      "downloading 2011-07-16T00:26:12.640000Z | -33.819,  -71.832 | 6.0 mww | manual\n",
      "downloading 2011-06-01T12:55:22.380000Z | -37.578,  -73.691 | 6.3 mww | manual\n",
      "downloading 2011-02-14T03:40:09.920000Z | -35.380,  -72.834 | 6.7 mww | manual\n",
      "downloading 2011-02-13T10:35:06.740000Z | -36.649,  -73.176 | 6.0 mwc | manual\n",
      "downloading 2011-02-12T01:17:01.410000Z | -37.027,  -72.954 | 6.1 mwb | manual\n",
      "downloading 2011-02-11T20:05:30.910000Z | -36.422,  -72.960 | 6.9 mww | manual\n",
      "downloading 2011-01-02T20:20:17.780000Z | -38.355,  -73.326 | 7.2 mww | manual\n",
      "downloading 2011-01-01T09:56:58.120000Z | -26.803,  -63.136 | 7.0 mww | manual\n",
      "downloading 2010-09-09T07:28:01.720000Z | -37.034,  -73.412 | 6.2 mwb | manual\n",
      "downloading 2010-07-14T08:32:21.490000Z | -38.067,  -73.310 | 6.6 mwc | manual\n",
      "downloading 2010-07-12T00:11:21.250000Z | -22.146,  -68.216 | 6.3 mwb | manual\n",
      "downloading 2010-05-03T23:09:44.790000Z | -38.072,  -73.454 | 6.3 mwc | manual\n",
      "downloading 2010-04-23T10:03:06.180000Z | -37.529,  -72.969 | 6.0 mwc | manual\n",
      "downloading 2010-04-02T22:58:07.560000Z | -36.227,  -72.878 | 6.0 mwc | manual\n",
      "downloading 2010-03-28T21:38:28.000000Z | -35.387,  -73.385 | 6.0 mwb | manual\n",
      "downloading 2010-03-26T14:52:07.230000Z | -27.953,  -70.821 | 6.3 mwb | manual\n",
      "downloading 2010-03-16T02:21:57.940000Z | -36.217,  -73.257 | 6.7 mwc | manual\n",
      "downloading 2010-03-15T11:08:28.960000Z | -35.802,  -73.158 | 6.2 mwc | manual\n",
      "downloading 2010-03-11T15:06:02.130000Z | -34.470,  -72.004 | 6.0 mb | manual\n",
      "downloading 2010-03-11T14:55:27.510000Z | -34.326,  -71.799 | 7.0 mwc | manual\n",
      "downloading 2010-03-11T14:39:43.950000Z | -34.290,  -71.891 | 6.9 mwc | manual\n",
      "downloading 2010-03-05T11:47:06.820000Z | -36.665,  -73.374 | 6.6 mwb | manual\n",
      "downloading 2010-03-05T09:19:36.380000Z | -36.631,  -73.223 | 6.1 mwc | manual\n",
      "downloading 2010-03-04T22:39:26.530000Z | -22.227,  -68.328 | 6.3 mwb | manual\n",
      "downloading 2010-03-04T01:59:48.670000Z | -33.216,  -72.125 | 6.0 mwc | manual\n",
      "downloading 2010-03-03T17:44:25.040000Z | -36.610,  -73.360 | 6.1 mwc | manual\n",
      "downloading 2010-02-28T11:25:35.920000Z | -34.903,  -71.617 | 6.2 mwb | manual\n",
      "downloading 2010-02-27T23:12:34.910000Z | -34.700,  -71.827 | 6.0 mb | manual\n",
      "downloading 2010-02-27T19:00:06.860000Z | -33.422,  -71.828 | 6.2 mwc | manual\n",
      "downloading 2010-02-27T17:24:30.590000Z | -36.354,  -73.208 | 6.1 mwb | manual\n",
      "downloading 2010-02-27T15:45:37.000000Z | -24.872,  -65.602 | 6.3 mwc | manual\n",
      "downloading 2010-02-27T10:30:36.400000Z | -33.281,  -71.955 | 6.0 mb | manual\n",
      "downloading 2010-02-27T10:30:10.000000Z | -37.878,  -73.545 | 6.0 mw | automatic\n",
      "downloading 2010-02-27T08:25:29.620000Z | -34.749,  -72.427 | 6.1 mb | manual\n",
      "downloading 2010-02-27T08:01:23.010000Z | -37.773,  -75.048 | 7.4 mwc | manual\n",
      "downloading 2010-02-27T07:37:17.960000Z | -36.869,  -72.673 | 6.0 mb | manual\n",
      "downloading 2010-02-27T07:12:28.450000Z | -33.878,  -71.943 | 6.0 mb | manual\n",
      "downloading 2010-02-27T06:52:34.020000Z | -34.867,  -72.614 | 6.2 mb | manual\n",
      "downloading 2010-02-27T06:51:17.650000Z | -31.663,  -69.141 | 6.0 mb | manual\n",
      "downloading 2015-09-16T22:54:32.860000Z | -31.573,  -71.674 | 8.3 mww | manual\n",
      "downloading 2010-02-27T06:34:11.530000Z | -36.122,  -72.898 | 8.8 mww | manual\n"
     ]
    }
   ],
   "source": [
    "# Downloading parameters\n",
    "window_len = 100\n",
    "offset = -20 #time before the first arrival\n",
    "samp_freq=40\n",
    "trall=[]\n",
    "for event in catalog:\n",
    "    tr=dld.get_event_waveforms(event,stainfo,window_len,offset,samp_freq=samp_freq,savetofile=False)\n",
    "    if len(tr):\n",
    "        print('downloading '+str(event.short_str()))\n",
    "        trall.append(tr[0])\n",
    "# it is okay if there is no data for some earthquakes. "
   ]
  },
  {
   "cell_type": "markdown",
   "metadata": {
    "id": "04NM7MKK6hwU"
   },
   "source": [
    "## Single-linkage heirachical clustering using DTW distance matrix"
   ]
  },
  {
   "cell_type": "code",
   "execution_count": 32,
   "metadata": {},
   "outputs": [],
   "source": [
    "# plt.plot(trall[12].data)\n",
    "# plt.show()"
   ]
  },
  {
   "cell_type": "code",
   "execution_count": 34,
   "metadata": {
    "scrolled": false
   },
   "outputs": [
    {
     "data": {
      "image/png": "[encoded data removed]",
      "text/plain": [
       "<Figure size 432x288 with 1 Axes>"
      ]
     },
     "metadata": {
      "needs_background": "light"
     },
     "output_type": "display_data"
    },
    {
     "ename": "TypeError",
     "evalue": "dtw() got an unexpected keyword argument 'keep_internals'",
     "output_type": "error",
     "traceback": [
      "\u001b[0;31m---------------------------------------------------------------------------\u001b[0m",
      "\u001b[0;31mTypeError\u001b[0m                                 Traceback (most recent call last)",
      "\u001b[0;32m/var/folders/m4/7rbjqysd6rbggr5t04jlkrd40000gn/T/ipykernel_1391/2928451268.py\u001b[0m in \u001b[0;36m<module>\u001b[0;34m\u001b[0m\n\u001b[1;32m     19\u001b[0m     \u001b[0;32mfor\u001b[0m \u001b[0mj\u001b[0m \u001b[0;32min\u001b[0m \u001b[0mrange\u001b[0m\u001b[0;34m(\u001b[0m\u001b[0mi\u001b[0m\u001b[0;34m,\u001b[0m \u001b[0msize\u001b[0m\u001b[0;34m)\u001b[0m\u001b[0;34m:\u001b[0m\u001b[0;34m\u001b[0m\u001b[0;34m\u001b[0m\u001b[0m\n\u001b[1;32m     20\u001b[0m         \u001b[0mtemplate\u001b[0m \u001b[0;34m=\u001b[0m \u001b[0mtrall\u001b[0m\u001b[0;34m[\u001b[0m\u001b[0mj\u001b[0m\u001b[0;34m]\u001b[0m\u001b[0;34m\u001b[0m\u001b[0;34m\u001b[0m\u001b[0m\n\u001b[0;32m---> 21\u001b[0;31m         \u001b[0malignment\u001b[0m \u001b[0;34m=\u001b[0m \u001b[0mdtw\u001b[0m\u001b[0;34m(\u001b[0m\u001b[0mquery\u001b[0m\u001b[0;34m,\u001b[0m \u001b[0mtemplate\u001b[0m\u001b[0;34m,\u001b[0m \u001b[0mkeep_internals\u001b[0m\u001b[0;34m=\u001b[0m\u001b[0;32mTrue\u001b[0m\u001b[0;34m)\u001b[0m\u001b[0;34m\u001b[0m\u001b[0;34m\u001b[0m\u001b[0m\n\u001b[0m\u001b[1;32m     22\u001b[0m         \u001b[0mdtw_dist_matrix\u001b[0m\u001b[0;34m[\u001b[0m\u001b[0mi\u001b[0m\u001b[0;34m,\u001b[0m \u001b[0mj\u001b[0m\u001b[0;34m]\u001b[0m \u001b[0;34m=\u001b[0m \u001b[0malignment\u001b[0m\u001b[0;34m.\u001b[0m\u001b[0mdistance\u001b[0m\u001b[0;34m\u001b[0m\u001b[0;34m\u001b[0m\u001b[0m\n\u001b[1;32m     23\u001b[0m         \u001b[0mdtw_dist_matrix\u001b[0m\u001b[0;34m[\u001b[0m\u001b[0mj\u001b[0m\u001b[0;34m,\u001b[0m \u001b[0mi\u001b[0m\u001b[0;34m]\u001b[0m \u001b[0;34m=\u001b[0m \u001b[0malignment\u001b[0m\u001b[0;34m.\u001b[0m\u001b[0mdistance\u001b[0m\u001b[0;34m\u001b[0m\u001b[0;34m\u001b[0m\u001b[0m\n",
      "\u001b[0;31mTypeError\u001b[0m: dtw() got an unexpected keyword argument 'keep_internals'"
     ]
    }
   ],
   "source": [
    "# print(trall[0].stats)\n",
    "# trall[0].plot()\n",
    "\n",
    "from dtw import *\n",
    "import numpy as np\n",
    "import scipy.spatial.distance as ssd\n",
    "from scipy.cluster.hierarchy import dendrogram, linkage\n",
    "import matplotlib.pyplot as plt\n",
    "\n",
    "plt.plot(trall[0].data)\n",
    "plt.plot(trall[2].data)\n",
    "plt.show()\n",
    "\n",
    "# Construct DTW distance matrix (very expensive!)\n",
    "size = len(trall)\n",
    "dtw_dist_matrix = np.zeros((size, size))\n",
    "for i in range(size):\n",
    "    query = trall[i]\n",
    "    for j in range(i, size):\n",
    "        template = trall[j]\n",
    "        alignment = dtw(query, template, keep_internals=True)\n",
    "        dtw_dist_matrix[i, j] = alignment.distance\n",
    "        dtw_dist_matrix[j, i] = alignment.distance\n",
    "# print(\"DTW distance matrix\")\n",
    "# print(dtw_dist_matrix)\n",
    "\n",
    "# Convert the redundant n*n square matrix form into a condensed nC2 array\n",
    "# distArray[{n choose 2}-{n-i choose 2} + (j-i-1)] is the distance between points i and j\n",
    "dtw_dist_array = ssd.squareform(dtw_dist_matrix)\n",
    "print(\"DTW distance array\")\n",
    "print(dtw_dist_array)"
   ]
  },
  {
   "cell_type": "code",
   "execution_count": null,
   "metadata": {},
   "outputs": [],
   "source": [
    "# Plot dendogram\n",
    "fig = plt.figure(figsize=(15, 9))\n",
    "dn = dendrogram(linkage(dtw_dist_array, 'single'))\n",
    "plt.show()"
   ]
  },
  {
   "cell_type": "code",
   "execution_count": null,
   "metadata": {},
   "outputs": [],
   "source": [
    "from sklearn.cluster import AgglomerativeClustering\n",
    "import pandas as pd\n",
    "\n",
    "k = 2\n",
    "h_clustering = AgglomerativeClustering(n_clusters=k, affinity='euclidean', linkage='ward')\n",
    "pred = h_clustering.fit_predict(dtw_dist_array.reshape(-1, 1))\n",
    "print(pd.Series(pred).value_counts())"
   ]
  },
  {
   "cell_type": "markdown",
   "metadata": {},
   "source": [
    "## Quality Control\n",
    "Narrow down waveforms to 15-35 seconds interval and find the signal to noise ratio."
   ]
  },
  {
   "cell_type": "code",
   "execution_count": 33,
   "metadata": {},
   "outputs": [
    {
     "data": {
      "image/png": "[encoded data removed]",
      "text/plain": [
       "<Figure size 432x288 with 1 Axes>"
      ]
     },
     "metadata": {
      "needs_background": "light"
     },
     "output_type": "display_data"
    },
    {
     "data": {
      "image/png": "[encoded data removed]",
      "text/plain": [
       "<Figure size 432x288 with 1 Axes>"
      ]
     },
     "metadata": {
      "needs_background": "light"
     },
     "output_type": "display_data"
    },
    {
     "name": "stdout",
     "output_type": "stream",
     "text": [
      "Signal to Noise ratio: -0.17824821986513728\n"
     ]
    }
   ],
   "source": [
    "import matplotlib.pyplot as plt\n",
    "import numpy as np\n",
    "\n",
    "# ratio < 1: less signal than noise\n",
    "# ratio > 1: more signal than noise\n",
    "def signaltonoise(a, axis=0, ddof=0):\n",
    "    a = np.asanyarray(a)\n",
    "    m = a.mean(axis)\n",
    "    sd = a.std(axis=axis, ddof=ddof)\n",
    "    return np.where(sd == 0, 0, m/sd)\n",
    "\n",
    "tr = trall[0]\n",
    "t = tr.stats.starttime\n",
    "sliced_tr = tr.slice(t + 15, t + 35)\n",
    "snr = signaltonoise(sliced_tr.data)\n",
    "\n",
    "plt.plot(tr.data)\n",
    "plt.show()\n",
    "plt.plot(sliced_tr.data)\n",
    "plt.show()\n",
    "print('Signal to Noise ratio:', snr)"
   ]
  },
  {
   "cell_type": "code",
   "execution_count": 37,
   "metadata": {},
   "outputs": [],
   "source": [
    "sliced_trall = []\n",
    "for tr in trall:\n",
    "    t = tr.stats.starttime\n",
    "    sliced_tr = tr.slice(t + 15, t + 35)\n",
    "    sliced_trall.append(sliced_tr)"
   ]
  },
  {
   "cell_type": "markdown",
   "metadata": {},
   "source": [
    "## tslearn\n",
    "#### K-Means Clustering"
   ]
  },
  {
   "cell_type": "code",
   "execution_count": 60,
   "metadata": {},
   "outputs": [
    {
     "name": "stdout",
     "output_type": "stream",
     "text": [
      "(15, 801, 1)\n"
     ]
    },
    {
     "name": "stderr",
     "output_type": "stream",
     "text": [
      "[Parallel(n_jobs=1)]: Using backend SequentialBackend with 1 concurrent workers.\n",
      "[Parallel(n_jobs=1)]: Done  15 out of  15 | elapsed:    0.1s finished\n",
      "[Parallel(n_jobs=1)]: Using backend SequentialBackend with 1 concurrent workers.\n",
      "[Parallel(n_jobs=1)]: Done  45 out of  45 | elapsed:    0.2s finished\n",
      "[Parallel(n_jobs=1)]: Using backend SequentialBackend with 1 concurrent workers.\n",
      "[Parallel(n_jobs=1)]: Done  45 out of  45 | elapsed:    0.2s finished\n",
      "[Parallel(n_jobs=1)]: Using backend SequentialBackend with 1 concurrent workers.\n",
      "[Parallel(n_jobs=1)]: Done  45 out of  45 | elapsed:    0.2s finished\n"
     ]
    },
    {
     "name": "stdout",
     "output_type": "stream",
     "text": [
      "0.000 --> "
     ]
    },
    {
     "name": "stderr",
     "output_type": "stream",
     "text": [
      "[Parallel(n_jobs=1)]: Using backend SequentialBackend with 1 concurrent workers.\n",
      "[Parallel(n_jobs=1)]: Done  45 out of  45 | elapsed:    0.3s finished\n"
     ]
    },
    {
     "name": "stdout",
     "output_type": "stream",
     "text": [
      "0.000 --> \n"
     ]
    },
    {
     "name": "stderr",
     "output_type": "stream",
     "text": [
      "[Parallel(n_jobs=1)]: Using backend SequentialBackend with 1 concurrent workers.\n",
      "[Parallel(n_jobs=1)]: Done  45 out of  45 | elapsed:    0.2s finished\n"
     ]
    },
    {
     "data": {
      "image/png": "[encoded data removed]",
      "text/plain": [
       "<Figure size 1440x720 with 3 Axes>"
      ]
     },
     "metadata": {
      "needs_background": "light"
     },
     "output_type": "display_data"
    }
   ],
   "source": [
    "from tslearn.utils import to_time_series, to_time_series_dataset\n",
    "from tslearn.clustering import TimeSeriesKMeans\n",
    "\n",
    "X_train = to_time_series_dataset([tr.data for tr in sliced_trall[:15]])\n",
    "X_test = to_time_series_dataset([tr.data for tr in sliced_trall[15:20]])\n",
    "print(X_train.shape)\n",
    "\n",
    "k = 3\n",
    "km = TimeSeriesKMeans(n_clusters=k, metric=\"dtw\",\n",
    "                      verbose=True, max_iter_barycenter=10, random_state=0)\n",
    "y_pred = km.fit_predict(X_train)\n",
    "plt.figure(figsize=(20, 10))\n",
    "for yi in range(k):\n",
    "    plt.subplot(k, k, yi + 1)\n",
    "    for xx in X_train[y_pred == yi]:\n",
    "        plt.plot(xx.ravel(), \"k-\", alpha=.2)\n",
    "    plt.plot(km.cluster_centers_[yi].ravel(), \"r-\")\n",
    "    plt.xlim(0, X_train.shape[1])\n",
    "    plt.ylim(-0.00001, 0.00001)\n",
    "    plt.text(0.55, 0.85, 'Cluster %d' % (yi + 1),\n",
    "             transform=plt.gca().transAxes)\n",
    "    if yi == 1:\n",
    "        plt.title(\"Euclidean $k$-means\")\n",
    "\n",
    "plt.show()"
   ]
  },
  {
   "cell_type": "code",
   "execution_count": 36,
   "metadata": {},
   "outputs": [
    {
     "name": "stdout",
     "output_type": "stream",
     "text": [
      "[1 2 2 1 2 1 0 1 2 1 1 1 0 1 0]\n",
      "{1: [0, 3, 5, 7, 9, 10, 11, 13], 2: [1, 2, 4, 8], 0: [6, 12, 14]}\n"
     ]
    }
   ],
   "source": [
    "print(km.labels_)\n",
    "cluster_indices = {}\n",
    "for i in range(len(km.labels_)):\n",
    "    label = km.labels_[i]\n",
    "    if label in cluster_indices:\n",
    "        cluster_indices[label].append(i)\n",
    "    else:\n",
    "        cluster_indices[label] = [i]\n",
    "print(cluster_indices) # remove other cluster members then rerun"
   ]
  },
  {
   "cell_type": "code",
   "execution_count": 45,
   "metadata": {},
   "outputs": [
    {
     "data": {
      "text/plain": [
       "[<matplotlib.lines.Line2D at 0x12e28e6a0>]"
      ]
     },
     "execution_count": 45,
     "metadata": {},
     "output_type": "execute_result"
    },
    {
     "data": {
      "image/png": "[encoded data removed]",
      "text/plain": [
       "<Figure size 432x288 with 1 Axes>"
      ]
     },
     "metadata": {
      "needs_background": "light"
     },
     "output_type": "display_data"
    }
   ],
   "source": [
    "plt.plot(trall[2])\n",
    "plt.plot(trall[4])\n",
    "plt.plot(trall[8])"
   ]
  },
  {
   "cell_type": "markdown",
   "metadata": {},
   "source": [
    "#### K Nearest Neighbors"
   ]
  },
  {
   "cell_type": "code",
   "execution_count": 67,
   "metadata": {},
   "outputs": [
    {
     "data": {
      "image/png": "[encoded data removed]",
      "text/plain": [
       "<Figure size 432x288 with 9 Axes>"
      ]
     },
     "metadata": {
      "needs_background": "light"
     },
     "output_type": "display_data"
    }
   ],
   "source": [
    "from tslearn.neighbors import KNeighborsTimeSeries\n",
    "\n",
    "n_neighbors = 2\n",
    "n_queries = 2\n",
    "\n",
    "knn = KNeighborsTimeSeries(n_neighbors=n_neighbors, metric=\"euclidean\").fit(X_train)\n",
    "ind = knn.kneighbors(X_test[:n_queries], return_distance=False)\n",
    "\n",
    "plt.figure()\n",
    "for idx_ts in range(n_queries):\n",
    "    plt.subplot(n_neighbors + 1, n_queries, idx_ts + 1)\n",
    "    plt.plot(X_test[idx_ts].ravel(), \"k-\")\n",
    "    plt.xticks([])\n",
    "    for rank_nn in range(n_neighbors):\n",
    "        plt.subplot(n_neighbors + 1, n_queries,\n",
    "                    idx_ts + (n_queries * (rank_nn + 1)) + 1)\n",
    "        plt.plot(X_train[ind[idx_ts, rank_nn]].ravel(), \"r-\")\n",
    "        plt.xticks([])\n",
    "\n",
    "plt.suptitle(\"Queries (in black) and their nearest neighbors (red)\")\n",
    "plt.show()"
   ]
  },
  {
   "cell_type": "markdown",
   "metadata": {},
   "source": [
    "## Plotting earthquake locations"
   ]
  },
  {
   "cell_type": "code",
   "execution_count": 8,
   "metadata": {},
   "outputs": [
    {
     "ename": "ModuleNotFoundError",
     "evalue": "No module named 'cartopy'",
     "output_type": "error",
     "traceback": [
      "\u001b[0;31m---------------------------------------------------------------------------\u001b[0m",
      "\u001b[0;31mModuleNotFoundError\u001b[0m                       Traceback (most recent call last)",
      "\u001b[0;32m/var/folders/m4/7rbjqysd6rbggr5t04jlkrd40000gn/T/ipykernel_30243/3565830569.py\u001b[0m in \u001b[0;36m<module>\u001b[0;34m\u001b[0m\n\u001b[0;32m----> 1\u001b[0;31m \u001b[0;32mimport\u001b[0m \u001b[0mcartopy\u001b[0m\u001b[0;34m.\u001b[0m\u001b[0mcrs\u001b[0m \u001b[0;32mas\u001b[0m \u001b[0mccrs\u001b[0m\u001b[0;34m\u001b[0m\u001b[0;34m\u001b[0m\u001b[0m\n\u001b[0m\u001b[1;32m      2\u001b[0m \u001b[0mprint\u001b[0m\u001b[0;34m(\u001b[0m\u001b[0mcatalog\u001b[0m\u001b[0;34m.\u001b[0m\u001b[0mplot\u001b[0m\u001b[0;34m(\u001b[0m\u001b[0;34m)\u001b[0m\u001b[0;34m)\u001b[0m\u001b[0;34m\u001b[0m\u001b[0;34m\u001b[0m\u001b[0m\n",
      "\u001b[0;31mModuleNotFoundError\u001b[0m: No module named 'cartopy'"
     ]
    }
   ],
   "source": [
    "import cartopy.crs as ccrs\n",
    "print(catalog.plot())"
   ]
  },
  {
   "cell_type": "code",
   "execution_count": 28,
   "metadata": {
    "scrolled": false
   },
   "outputs": [
    {
     "data": {
      "application/vnd.plotly.v1+json": {
       "config": {
        "plotlyServerURL": "https://plot.ly"
       },
       "data": [
        {
         "customdata": [
          [
           "36 km WNW of Quirihue, Chile",
           "2010-02-27T06:34:11.530000",
           -72.898,
           -36.122,
           22900,
           8.8,
           2010
          ],
          [
           "40 km WSW of Villa Basilio Nievas, Argentina",
           "2010-02-27T06:51:17.650000",
           -69.141,
           -31.663,
           39800,
           6,
           2010
          ],
          [
           "54 km NNW of Constitución, Chile",
           "2010-02-27T06:52:34.020000",
           -72.614,
           -34.867,
           35000,
           6.2,
           2010
          ],
          [
           "44 km SW of San Antonio, Chile",
           "2010-02-27T07:12:28.450000",
           -71.943,
           -33.878,
           35000,
           6,
           2010
          ],
          [
           "27 km NNW of Yumbel, Chile",
           "2010-02-27T07:37:17.960000",
           -72.673,
           -36.869,
           35000,
           6,
           2010
          ],
          [
           "124 km W of Lebu, Chile",
           "2010-02-27T08:01:23.010000",
           -75.048,
           -37.773,
           35000,
           7.4,
           2010
          ],
          [
           "64 km N of Constitución, Chile",
           "2010-02-27T08:25:29.620000",
           -72.427,
           -34.749,
           35000,
           6.1,
           2010
          ],
          [
           "15 km WSW of Cañete, Chile",
           "2010-02-27T10:30:10",
           -73.545,
           -37.878,
           20000,
           6,
           2010
          ],
          [
           "40 km SW of Valparaíso, Chile",
           "2010-02-27T10:30:36.400000",
           -71.955,
           -33.281,
           35000,
           6,
           2010
          ],
          [
           "5 km NE of Campo Quijano, Argentina",
           "2010-02-27T15:45:37",
           -65.602,
           -24.872,
           10000,
           6.3,
           2010
          ],
          [
           "36 km NW of Tomé, Chile",
           "2010-02-27T17:24:30.590000",
           -73.208,
           -36.354,
           19000,
           6.1,
           2010
          ],
          [
           "25 km NW of Cartagena, Chile",
           "2010-02-27T19:00:06.860000",
           -71.828,
           -33.422,
           31100,
           6.2,
           2010
          ],
          [
           "42 km W of Santa Cruz, Chile",
           "2010-02-27T23:12:34.910000",
           -71.827,
           -34.7,
           35000,
           6,
           2010
          ],
          [
           "27 km W of Rauco, Chile",
           "2010-02-28T11:25:35.920000",
           -71.617,
           -34.903,
           46000,
           6.2,
           2010
          ],
          [
           "25 km WNW of Talcahuano, Chile",
           "2010-03-03T17:44:25.040000",
           -73.36,
           -36.61,
           20000,
           6.1,
           2010
          ],
          [
           "50 km WSW of Valparaíso, Chile",
           "2010-03-04T01:59:48.670000",
           -72.125,
           -33.216,
           24200,
           6,
           2010
          ],
          [
           "66 km ENE of Calama, Chile",
           "2010-03-04T22:39:26.530000",
           -68.328,
           -22.227,
           114000,
           6.3,
           2010
          ],
          [
           "14 km NW of Talcahuano, Chile",
           "2010-03-05T09:19:36.380000",
           -73.223,
           -36.631,
           29900,
           6.1,
           2010
          ],
          [
           "23 km WNW of Talcahuano, Chile",
           "2010-03-05T11:47:06.820000",
           -73.374,
           -36.665,
           18000,
           6.6,
           2010
          ],
          [
           "61 km NW of Santa Cruz, Chile",
           "2010-03-11T14:39:43.950000",
           -71.891,
           -34.29,
           11000,
           6.9,
           2010
          ],
          [
           "52 km NW of Santa Cruz, Chile",
           "2010-03-11T14:55:27.510000",
           -71.799,
           -34.326,
           18000,
           7,
           2010
          ],
          [
           "61 km WNW of Santa Cruz, Chile",
           "2010-03-11T15:06:02.130000",
           -72.004,
           -34.47,
           31500,
           6,
           2010
          ],
          [
           "76 km NW of Quirihue, Chile",
           "2010-03-15T11:08:28.960000",
           -73.158,
           -35.802,
           14000,
           6.2,
           2010
          ],
          [
           "52 km NNW of Tomé, Chile",
           "2010-03-16T02:21:57.940000",
           -73.257,
           -36.217,
           18000,
           6.7,
           2010
          ],
          [
           "69 km N of Vallenar, Chile",
           "2010-03-26T14:52:07.230000",
           -70.821,
           -27.953,
           42000,
           6.3,
           2010
          ],
          [
           "88 km W of Constitución, Chile",
           "2010-03-28T21:38:28",
           -73.385,
           -35.387,
           29900,
           6,
           2010
          ],
          [
           "30 km W of Quirihue, Chile",
           "2010-04-02T22:58:07.560000",
           -72.878,
           -36.227,
           24000,
           6,
           2010
          ],
          [
           "26 km W of Nacimiento, Chile",
           "2010-04-23T10:03:06.180000",
           -72.969,
           -37.529,
           32000,
           6,
           2010
          ],
          [
           "30 km S of Cañete, Chile",
           "2010-05-03T23:09:44.790000",
           -73.454,
           -38.072,
           19000,
           6.3,
           2010
          ],
          [
           "80 km ENE of Calama, Chile",
           "2010-07-12T00:11:21.250000",
           -68.216,
           -22.146,
           115000,
           6.3,
           2010
          ],
          [
           "30 km SSE of Cañete, Chile",
           "2010-07-14T08:32:21.490000",
           -73.31,
           -38.067,
           22000,
           6.6,
           2010
          ],
          [
           "23 km WNW of Lota, Chile",
           "2010-09-09T07:28:01.720000",
           -73.412,
           -37.034,
           16000,
           6.2,
           2010
          ]
         ],
         "hovertemplate": "<b>%{hovertext}</b><br><br>year=%{customdata[6]}<br>mag=%{marker.color}<br>lat=%{customdata[3]}<br>lon=%{customdata[2]}<br>desc=%{customdata[0]}<br>time=%{customdata[1]}<br>depth=%{customdata[4]}<extra></extra>",
         "hovertext": [
          "36 km WNW of Quirihue, Chile",
          "40 km WSW of Villa Basilio Nievas, Argentina",
          "54 km NNW of Constitución, Chile",
          "44 km SW of San Antonio, Chile",
          "27 km NNW of Yumbel, Chile",
          "124 km W of Lebu, Chile",
          "64 km N of Constitución, Chile",
          "15 km WSW of Cañete, Chile",
          "40 km SW of Valparaíso, Chile",
          "5 km NE of Campo Quijano, Argentina",
          "36 km NW of Tomé, Chile",
          "25 km NW of Cartagena, Chile",
          "42 km W of Santa Cruz, Chile",
          "27 km W of Rauco, Chile",
          "25 km WNW of Talcahuano, Chile",
          "50 km WSW of Valparaíso, Chile",
          "66 km ENE of Calama, Chile",
          "14 km NW of Talcahuano, Chile",
          "23 km WNW of Talcahuano, Chile",
          "61 km NW of Santa Cruz, Chile",
          "52 km NW of Santa Cruz, Chile",
          "61 km WNW of Santa Cruz, Chile",
          "76 km NW of Quirihue, Chile",
          "52 km NNW of Tomé, Chile",
          "69 km N of Vallenar, Chile",
          "88 km W of Constitución, Chile",
          "30 km W of Quirihue, Chile",
          "26 km W of Nacimiento, Chile",
          "30 km S of Cañete, Chile",
          "80 km ENE of Calama, Chile",
          "30 km SSE of Cañete, Chile",
          "23 km WNW of Lota, Chile"
         ],
         "lat": [
          -36.122,
          -31.663,
          -34.867,
          -33.878,
          -36.869,
          -37.773,
          -34.749,
          -37.878,
          -33.281,
          -24.872,
          -36.354,
          -33.422,
          -34.7,
          -34.903,
          -36.61,
          -33.216,
          -22.227,
          -36.631,
          -36.665,
          -34.29,
          -34.326,
          -34.47,
          -35.802,
          -36.217,
          -27.953,
          -35.387,
          -36.227,
          -37.529,
          -38.072,
          -22.146,
          -38.067,
          -37.034
         ],
         "legendgroup": "",
         "lon": [
          -72.898,
          -69.141,
          -72.614,
          -71.943,
          -72.673,
          -75.048,
          -72.427,
          -73.545,
          -71.955,
          -65.602,
          -73.208,
          -71.828,
          -71.827,
          -71.617,
          -73.36,
          -72.125,
          -68.328,
          -73.223,
          -73.374,
          -71.891,
          -71.799,
          -72.004,
          -73.158,
          -73.257,
          -70.821,
          -73.385,
          -72.878,
          -72.969,
          -73.454,
          -68.216,
          -73.31,
          -73.412
         ],
         "marker": {
          "color": [
           8.8,
           6,
           6.2,
           6,
           6,
           7.4,
           6.1,
           6,
           6,
           6.3,
           6.1,
           6.2,
           6,
           6.2,
           6.1,
           6,
           6.3,
           6.1,
           6.6,
           6.9,
           7,
           6,
           6.2,
           6.7,
           6.3,
           6,
           6,
           6,
           6.3,
           6.3,
           6.6,
           6.2
          ],
          "coloraxis": "coloraxis",
          "size": [
           8.8,
           6,
           6.2,
           6,
           6,
           7.4,
           6.1,
           6,
           6,
           6.3,
           6.1,
           6.2,
           6,
           6.2,
           6.1,
           6,
           6.3,
           6.1,
           6.6,
           6.9,
           7,
           6,
           6.2,
           6.7,
           6.3,
           6,
           6,
           6,
           6.3,
           6.3,
           6.6,
           6.2
          ],
          "sizemode": "area",
          "sizeref": 0.05207100591715977
         },
         "mode": "markers",
         "name": "",
         "showlegend": false,
         "subplot": "mapbox",
         "type": "scattermapbox"
        }
       ],
       "frames": [
        {
         "data": [
          {
           "customdata": [
            [
             "36 km WNW of Quirihue, Chile",
             "2010-02-27T06:34:11.530000",
             -72.898,
             -36.122,
             22900,
             8.8,
             2010
            ],
            [
             "40 km WSW of Villa Basilio Nievas, Argentina",
             "2010-02-27T06:51:17.650000",
             -69.141,
             -31.663,
             39800,
             6,
             2010
            ],
            [
             "54 km NNW of Constitución, Chile",
             "2010-02-27T06:52:34.020000",
             -72.614,
             -34.867,
             35000,
             6.2,
             2010
            ],
            [
             "44 km SW of San Antonio, Chile",
             "2010-02-27T07:12:28.450000",
             -71.943,
             -33.878,
             35000,
             6,
             2010
            ],
            [
             "27 km NNW of Yumbel, Chile",
             "2010-02-27T07:37:17.960000",
             -72.673,
             -36.869,
             35000,
             6,
             2010
            ],
            [
             "124 km W of Lebu, Chile",
             "2010-02-27T08:01:23.010000",
             -75.048,
             -37.773,
             35000,
             7.4,
             2010
            ],
            [
             "64 km N of Constitución, Chile",
             "2010-02-27T08:25:29.620000",
             -72.427,
             -34.749,
             35000,
             6.1,
             2010
            ],
            [
             "15 km WSW of Cañete, Chile",
             "2010-02-27T10:30:10",
             -73.545,
             -37.878,
             20000,
             6,
             2010
            ],
            [
             "40 km SW of Valparaíso, Chile",
             "2010-02-27T10:30:36.400000",
             -71.955,
             -33.281,
             35000,
             6,
             2010
            ],
            [
             "5 km NE of Campo Quijano, Argentina",
             "2010-02-27T15:45:37",
             -65.602,
             -24.872,
             10000,
             6.3,
             2010
            ],
            [
             "36 km NW of Tomé, Chile",
             "2010-02-27T17:24:30.590000",
             -73.208,
             -36.354,
             19000,
             6.1,
             2010
            ],
            [
             "25 km NW of Cartagena, Chile",
             "2010-02-27T19:00:06.860000",
             -71.828,
             -33.422,
             31100,
             6.2,
             2010
            ],
            [
             "42 km W of Santa Cruz, Chile",
             "2010-02-27T23:12:34.910000",
             -71.827,
             -34.7,
             35000,
             6,
             2010
            ],
            [
             "27 km W of Rauco, Chile",
             "2010-02-28T11:25:35.920000",
             -71.617,
             -34.903,
             46000,
             6.2,
             2010
            ],
            [
             "25 km WNW of Talcahuano, Chile",
             "2010-03-03T17:44:25.040000",
             -73.36,
             -36.61,
             20000,
             6.1,
             2010
            ],
            [
             "50 km WSW of Valparaíso, Chile",
             "2010-03-04T01:59:48.670000",
             -72.125,
             -33.216,
             24200,
             6,
             2010
            ],
            [
             "66 km ENE of Calama, Chile",
             "2010-03-04T22:39:26.530000",
             -68.328,
             -22.227,
             114000,
             6.3,
             2010
            ],
            [
             "14 km NW of Talcahuano, Chile",
             "2010-03-05T09:19:36.380000",
             -73.223,
             -36.631,
             29900,
             6.1,
             2010
            ],
            [
             "23 km WNW of Talcahuano, Chile",
             "2010-03-05T11:47:06.820000",
             -73.374,
             -36.665,
             18000,
             6.6,
             2010
            ],
            [
             "61 km NW of Santa Cruz, Chile",
             "2010-03-11T14:39:43.950000",
             -71.891,
             -34.29,
             11000,
             6.9,
             2010
            ],
            [
             "52 km NW of Santa Cruz, Chile",
             "2010-03-11T14:55:27.510000",
             -71.799,
             -34.326,
             18000,
             7,
             2010
            ],
            [
             "61 km WNW of Santa Cruz, Chile",
             "2010-03-11T15:06:02.130000",
             -72.004,
             -34.47,
             31500,
             6,
             2010
            ],
            [
             "76 km NW of Quirihue, Chile",
             "2010-03-15T11:08:28.960000",
             -73.158,
             -35.802,
             14000,
             6.2,
             2010
            ],
            [
             "52 km NNW of Tomé, Chile",
             "2010-03-16T02:21:57.940000",
             -73.257,
             -36.217,
             18000,
             6.7,
             2010
            ],
            [
             "69 km N of Vallenar, Chile",
             "2010-03-26T14:52:07.230000",
             -70.821,
             -27.953,
             42000,
             6.3,
             2010
            ],
            [
             "88 km W of Constitución, Chile",
             "2010-03-28T21:38:28",
             -73.385,
             -35.387,
             29900,
             6,
             2010
            ],
            [
             "30 km W of Quirihue, Chile",
             "2010-04-02T22:58:07.560000",
             -72.878,
             -36.227,
             24000,
             6,
             2010
            ],
            [
             "26 km W of Nacimiento, Chile",
             "2010-04-23T10:03:06.180000",
             -72.969,
             -37.529,
             32000,
             6,
             2010
            ],
            [
             "30 km S of Cañete, Chile",
             "2010-05-03T23:09:44.790000",
             -73.454,
             -38.072,
             19000,
             6.3,
             2010
            ],
            [
             "80 km ENE of Calama, Chile",
             "2010-07-12T00:11:21.250000",
             -68.216,
             -22.146,
             115000,
             6.3,
             2010
            ],
            [
             "30 km SSE of Cañete, Chile",
             "2010-07-14T08:32:21.490000",
             -73.31,
             -38.067,
             22000,
             6.6,
             2010
            ],
            [
             "23 km WNW of Lota, Chile",
             "2010-09-09T07:28:01.720000",
             -73.412,
             -37.034,
             16000,
             6.2,
             2010
            ]
           ],
           "hovertemplate": "<b>%{hovertext}</b><br><br>year=%{customdata[6]}<br>mag=%{marker.color}<br>lat=%{customdata[3]}<br>lon=%{customdata[2]}<br>desc=%{customdata[0]}<br>time=%{customdata[1]}<br>depth=%{customdata[4]}<extra></extra>",
           "hovertext": [
            "36 km WNW of Quirihue, Chile",
            "40 km WSW of Villa Basilio Nievas, Argentina",
            "54 km NNW of Constitución, Chile",
            "44 km SW of San Antonio, Chile",
            "27 km NNW of Yumbel, Chile",
            "124 km W of Lebu, Chile",
            "64 km N of Constitución, Chile",
            "15 km WSW of Cañete, Chile",
            "40 km SW of Valparaíso, Chile",
            "5 km NE of Campo Quijano, Argentina",
            "36 km NW of Tomé, Chile",
            "25 km NW of Cartagena, Chile",
            "42 km W of Santa Cruz, Chile",
            "27 km W of Rauco, Chile",
            "25 km WNW of Talcahuano, Chile",
            "50 km WSW of Valparaíso, Chile",
            "66 km ENE of Calama, Chile",
            "14 km NW of Talcahuano, Chile",
            "23 km WNW of Talcahuano, Chile",
            "61 km NW of Santa Cruz, Chile",
            "52 km NW of Santa Cruz, Chile",
            "61 km WNW of Santa Cruz, Chile",
            "76 km NW of Quirihue, Chile",
            "52 km NNW of Tomé, Chile",
            "69 km N of Vallenar, Chile",
            "88 km W of Constitución, Chile",
            "30 km W of Quirihue, Chile",
            "26 km W of Nacimiento, Chile",
            "30 km S of Cañete, Chile",
            "80 km ENE of Calama, Chile",
            "30 km SSE of Cañete, Chile",
            "23 km WNW of Lota, Chile"
           ],
           "lat": [
            -36.122,
            -31.663,
            -34.867,
            -33.878,
            -36.869,
            -37.773,
            -34.749,
            -37.878,
            -33.281,
            -24.872,
            -36.354,
            -33.422,
            -34.7,
            -34.903,
            -36.61,
            -33.216,
            -22.227,
            -36.631,
            -36.665,
            -34.29,
            -34.326,
            -34.47,
            -35.802,
            -36.217,
            -27.953,
            -35.387,
            -36.227,
            -37.529,
            -38.072,
            -22.146,
            -38.067,
            -37.034
           ],
           "legendgroup": "",
           "lon": [
            -72.898,
            -69.141,
            -72.614,
            -71.943,
            -72.673,
            -75.048,
            -72.427,
            -73.545,
            -71.955,
            -65.602,
            -73.208,
            -71.828,
            -71.827,
            -71.617,
            -73.36,
            -72.125,
            -68.328,
            -73.223,
            -73.374,
            -71.891,
            -71.799,
            -72.004,
            -73.158,
            -73.257,
            -70.821,
            -73.385,
            -72.878,
            -72.969,
            -73.454,
            -68.216,
            -73.31,
            -73.412
           ],
           "marker": {
            "color": [
             8.8,
             6,
             6.2,
             6,
             6,
             7.4,
             6.1,
             6,
             6,
             6.3,
             6.1,
             6.2,
             6,
             6.2,
             6.1,
             6,
             6.3,
             6.1,
             6.6,
             6.9,
             7,
             6,
             6.2,
             6.7,
             6.3,
             6,
             6,
             6,
             6.3,
             6.3,
             6.6,
             6.2
            ],
            "coloraxis": "coloraxis",
            "size": [
             8.8,
             6,
             6.2,
             6,
             6,
             7.4,
             6.1,
             6,
             6,
             6.3,
             6.1,
             6.2,
             6,
             6.2,
             6.1,
             6,
             6.3,
             6.1,
             6.6,
             6.9,
             7,
             6,
             6.2,
             6.7,
             6.3,
             6,
             6,
             6,
             6.3,
             6.3,
             6.6,
             6.2
            ],
            "sizemode": "area",
            "sizeref": 0.05207100591715977
           },
           "mode": "markers",
           "name": "",
           "showlegend": false,
           "subplot": "mapbox",
           "type": "scattermapbox"
          }
         ],
         "name": "2010"
        },
        {
         "data": [
          {
           "customdata": [
            [
             "26 km NNE of El Hoyo, Argentina",
             "2011-01-01T09:56:58.120000",
             -63.136,
             -26.803,
             576800,
             7,
             2011
            ],
            [
             "42 km NNW of Carahue, Chile",
             "2011-01-02T20:20:17.780000",
             -73.326,
             -38.355,
             24000,
             7.2,
             2011
            ],
            [
             "21 km N of Tomé, Chile",
             "2011-02-11T20:05:30.910000",
             -72.96,
             -36.422,
             26000,
             6.9,
             2011
            ],
            [
             "13 km SSE of Chiguayante, Chile",
             "2011-02-12T01:17:01.410000",
             -72.954,
             -37.027,
             16000,
             6.1,
             2011
            ],
            [
             "9 km NNW of Talcahuano, Chile",
             "2011-02-13T10:35:06.740000",
             -73.176,
             -36.649,
             17000,
             6,
             2011
            ],
            [
             "38 km W of Constitución, Chile",
             "2011-02-14T03:40:09.920000",
             -72.834,
             -35.38,
             21000,
             6.7,
             2011
            ],
            [
             "4 km NW of Lebu, Chile",
             "2011-06-01T12:55:22.380000",
             -73.691,
             -37.578,
             21000,
             6.3,
             2011
            ],
            [
             "32 km SW of San Antonio, Chile",
             "2011-07-16T00:26:12.640000",
             -71.832,
             -33.819,
             20000,
             6,
             2011
            ],
            [
             "20 km WNW of Añatuya, Argentina",
             "2011-09-02T13:47:09.620000",
             -63.029,
             -28.398,
             578900,
             6.7,
             2011
            ],
            [
             "76 km NNW of Vallenar, Chile",
             "2011-12-07T22:23:09.730000",
             -70.918,
             -27.899,
             20000,
             6.1,
             2011
            ]
           ],
           "hovertemplate": "<b>%{hovertext}</b><br><br>year=%{customdata[6]}<br>mag=%{marker.color}<br>lat=%{customdata[3]}<br>lon=%{customdata[2]}<br>desc=%{customdata[0]}<br>time=%{customdata[1]}<br>depth=%{customdata[4]}<extra></extra>",
           "hovertext": [
            "26 km NNE of El Hoyo, Argentina",
            "42 km NNW of Carahue, Chile",
            "21 km N of Tomé, Chile",
            "13 km SSE of Chiguayante, Chile",
            "9 km NNW of Talcahuano, Chile",
            "38 km W of Constitución, Chile",
            "4 km NW of Lebu, Chile",
            "32 km SW of San Antonio, Chile",
            "20 km WNW of Añatuya, Argentina",
            "76 km NNW of Vallenar, Chile"
           ],
           "lat": [
            -26.803,
            -38.355,
            -36.422,
            -37.027,
            -36.649,
            -35.38,
            -37.578,
            -33.819,
            -28.398,
            -27.899
           ],
           "legendgroup": "",
           "lon": [
            -63.136,
            -73.326,
            -72.96,
            -72.954,
            -73.176,
            -72.834,
            -73.691,
            -71.832,
            -63.029,
            -70.918
           ],
           "marker": {
            "color": [
             7,
             7.2,
             6.9,
             6.1,
             6,
             6.7,
             6.3,
             6,
             6.7,
             6.1
            ],
            "coloraxis": "coloraxis",
            "size": [
             7,
             7.2,
             6.9,
             6.1,
             6,
             6.7,
             6.3,
             6,
             6.7,
             6.1
            ],
            "sizemode": "area",
            "sizeref": 0.05207100591715977
           },
           "mode": "markers",
           "name": "",
           "showlegend": false,
           "subplot": "mapbox",
           "type": "scattermapbox"
          }
         ],
         "name": "2011"
        },
        {
         "data": [
          {
           "customdata": [
            [
             "24 km NNW of Tomé, Chile",
             "2012-01-23T16:04:52.980000",
             -73.03,
             -36.409,
             20000,
             6.1,
             2012
            ],
            [
             "37 km SSE of Suncho Corral, Argentina",
             "2012-03-05T07:46:10.040000",
             -63.294,
             -28.246,
             553900,
             6.1,
             2012
            ],
            [
             "23 km NE of Constitución, Chile",
             "2012-03-25T22:37:06",
             -72.217,
             -35.2,
             40700,
             7.1,
             2012
            ],
            [
             "22 km NW of Hacienda La Calera, Chile",
             "2012-04-17T03:50:15.610000",
             -71.365,
             -32.625,
             29000,
             6.7,
             2012
            ],
            [
             "35 km ESE of Suncho Corral, Argentina",
             "2012-05-28T05:07:23.450000",
             -63.094,
             -28.043,
             586900,
             6.7,
             2012
            ],
            [
             "86 km ESE of Colbún, Chile",
             "2012-06-07T04:05:04.520000",
             -70.57,
             -36.074,
             8000,
             6,
             2012
            ],
            [
             "73 km SW of Vallenar, Chile",
             "2012-11-14T19:02:06.120000",
             -71.19,
             -29.118,
             63000,
             6.1,
             2012
            ]
           ],
           "hovertemplate": "<b>%{hovertext}</b><br><br>year=%{customdata[6]}<br>mag=%{marker.color}<br>lat=%{customdata[3]}<br>lon=%{customdata[2]}<br>desc=%{customdata[0]}<br>time=%{customdata[1]}<br>depth=%{customdata[4]}<extra></extra>",
           "hovertext": [
            "24 km NNW of Tomé, Chile",
            "37 km SSE of Suncho Corral, Argentina",
            "23 km NE of Constitución, Chile",
            "22 km NW of Hacienda La Calera, Chile",
            "35 km ESE of Suncho Corral, Argentina",
            "86 km ESE of Colbún, Chile",
            "73 km SW of Vallenar, Chile"
           ],
           "lat": [
            -36.409,
            -28.246,
            -35.2,
            -32.625,
            -28.043,
            -36.074,
            -29.118
           ],
           "legendgroup": "",
           "lon": [
            -73.03,
            -63.294,
            -72.217,
            -71.365,
            -63.094,
            -70.57,
            -71.19
           ],
           "marker": {
            "color": [
             6.1,
             6.1,
             7.1,
             6.7,
             6.7,
             6,
             6.1
            ],
            "coloraxis": "coloraxis",
            "size": [
             6.1,
             6.1,
             7.1,
             6.7,
             6.7,
             6,
             6.1
            ],
            "sizemode": "area",
            "sizeref": 0.05207100591715977
           },
           "mode": "markers",
           "name": "",
           "showlegend": false,
           "subplot": "mapbox",
           "type": "scattermapbox"
          }
         ],
         "name": "2012"
        },
        {
         "data": [
          {
           "customdata": [
            [
             "54 km N of Vallenar, Chile",
             "2013-01-30T20:15:43.340000",
             -70.653,
             -28.094,
             45000,
             6.8,
             2013
            ],
            [
             "32 km E of Suncho Corral, Argentina",
             "2013-02-22T12:01:58.200000",
             -63.097,
             -27.932,
             575200,
             6.1,
             2013
            ],
            [
             "89 km W of Constitución, Chile",
             "2013-10-30T02:51:47",
             -73.395,
             -35.314,
             41500,
             6.2,
             2013
            ],
            [
             "41 km SSW of Coquimbo, Chile",
             "2013-10-31T23:03:59.720000",
             -71.5215,
             -30.2921,
             27000,
             6.6,
             2013
            ]
           ],
           "hovertemplate": "<b>%{hovertext}</b><br><br>year=%{customdata[6]}<br>mag=%{marker.color}<br>lat=%{customdata[3]}<br>lon=%{customdata[2]}<br>desc=%{customdata[0]}<br>time=%{customdata[1]}<br>depth=%{customdata[4]}<extra></extra>",
           "hovertext": [
            "54 km N of Vallenar, Chile",
            "32 km E of Suncho Corral, Argentina",
            "89 km W of Constitución, Chile",
            "41 km SSW of Coquimbo, Chile"
           ],
           "lat": [
            -28.094,
            -27.932,
            -35.314,
            -30.2921
           ],
           "legendgroup": "",
           "lon": [
            -70.653,
            -63.097,
            -73.395,
            -71.5215
           ],
           "marker": {
            "color": [
             6.8,
             6.1,
             6.2,
             6.6
            ],
            "coloraxis": "coloraxis",
            "size": [
             6.8,
             6.1,
             6.2,
             6.6
            ],
            "sizemode": "area",
            "sizeref": 0.05207100591715977
           },
           "mode": "markers",
           "name": "",
           "showlegend": false,
           "subplot": "mapbox",
           "type": "scattermapbox"
          }
         ],
         "name": "2013"
        },
        {
         "data": [
          {
           "customdata": [
            [
             "23 km WNW of Hacienda La Calera, Chile",
             "2014-08-23T22:32:23.320000",
             -71.4416,
             -32.6953,
             32000,
             6.4,
             2014
            ],
            [
             "56 km NW of San Antonio de los Cobres, Argentina",
             "2014-09-24T11:16:15.010000",
             -66.6321,
             -23.8009,
             224000,
             6.2,
             2014
            ]
           ],
           "hovertemplate": "<b>%{hovertext}</b><br><br>year=%{customdata[6]}<br>mag=%{marker.color}<br>lat=%{customdata[3]}<br>lon=%{customdata[2]}<br>desc=%{customdata[0]}<br>time=%{customdata[1]}<br>depth=%{customdata[4]}<extra></extra>",
           "hovertext": [
            "23 km WNW of Hacienda La Calera, Chile",
            "56 km NW of San Antonio de los Cobres, Argentina"
           ],
           "lat": [
            -32.6953,
            -23.8009
           ],
           "legendgroup": "",
           "lon": [
            -71.4416,
            -66.6321
           ],
           "marker": {
            "color": [
             6.4,
             6.2
            ],
            "coloraxis": "coloraxis",
            "size": [
             6.4,
             6.2
            ],
            "sizemode": "area",
            "sizeref": 0.05207100591715977
           },
           "mode": "markers",
           "name": "",
           "showlegend": false,
           "subplot": "mapbox",
           "type": "scattermapbox"
          }
         ],
         "name": "2014"
        },
        {
         "data": [
          {
           "customdata": [
            [
             "63 km W of Villa General Roca, Argentina",
             "2015-02-02T10:49:48.530000",
             -67.1231,
             -32.7183,
             172000,
             6.3,
             2015
            ],
            [
             "103 km W of El Aguilar, Argentina",
             "2015-02-11T18:57:22.460000",
             -66.688,
             -23.1125,
             223000,
             6.7,
             2015
            ],
            [
             "75 km NW of Tomé, Chile",
             "2015-03-18T18:27:29.500000",
             -73.5219,
             -36.1167,
             13000,
             6.2,
             2015
            ],
            [
             "50 km E of Calama, Chile",
             "2015-06-10T13:52:09.770000",
             -68.4323,
             -22.4,
             124000,
             6,
             2015
            ],
            [
             "74 km WNW of Talcahuano, Chile",
             "2015-06-20T02:10:07.100000",
             -73.812,
             -36.3601,
             11000,
             6.4,
             2015
            ],
            [
             "48 km W of Illapel, Chile",
             "2015-09-16T22:54:32.860000",
             -71.6744,
             -31.5729,
             22440,
             8.3,
             2015
            ],
            [
             "54 km W of Illapel, Chile",
             "2015-09-16T22:59:15",
             -71.745,
             -31.618,
             26700,
             6.4,
             2015
            ],
            [
             "55 km WSW of Illapel, Chile",
             "2015-09-16T23:03:56.560000",
             -71.7425,
             -31.7502,
             19100,
             6.1,
             2015
            ],
            [
             "71 km W of Illapel, Chile",
             "2015-09-16T23:16:09.440000",
             -71.9189,
             -31.6,
             35000,
             6.1,
             2015
            ],
            [
             "25 km WNW of Illapel, Chile",
             "2015-09-16T23:18:41.850000",
             -71.4262,
             -31.5622,
             28410,
             7,
             2015
            ],
            [
             "70 km SW of Ovalle, Chile",
             "2015-09-17T01:41:05.870000",
             -71.6504,
             -31.1043,
             42320,
             6.4,
             2015
            ],
            [
             "54 km WNW of Illapel, Chile",
             "2015-09-17T03:55:15.430000",
             -71.6876,
             -31.4244,
             27000,
             6.5,
             2015
            ],
            [
             "61 km WNW of Illapel, Chile",
             "2015-09-17T04:10:27.780000",
             -71.804,
             -31.5173,
             23000,
             6.7,
             2015
            ],
            [
             "92 km NW of Valparaíso, Chile",
             "2015-09-18T09:10:44.730000",
             -72.2292,
             -32.3681,
             8000,
             6.2,
             2015
            ],
            [
             "79 km WNW of Coquimbo, Chile",
             "2015-09-19T05:06:47.500000",
             -72.077,
             -29.6411,
             6000,
             6.1,
             2015
            ],
            [
             "79 km W of La Ligua, Chile",
             "2015-09-19T12:52:20.920000",
             -72.0629,
             -32.3335,
             18000,
             6.2,
             2015
            ],
            [
             "54 km W of Illapel, Chile",
             "2015-09-21T05:39:34.910000",
             -71.7431,
             -31.5757,
             30000,
             6.1,
             2015
            ],
            [
             "22 km WSW of Illapel, Chile",
             "2015-09-21T17:40:00.060000",
             -71.3792,
             -31.7275,
             35000,
             6.6,
             2015
            ],
            [
             "22 km NNW of Illapel, Chile",
             "2015-09-22T07:13:00.520000",
             -71.2653,
             -31.4441,
             58000,
             6,
             2015
            ],
            [
             "26 km SSW of Ovalle, Chile",
             "2015-09-26T02:51:18.830000",
             -71.3217,
             -30.8148,
             46000,
             6.3,
             2015
            ],
            [
             "107 km WNW of Coquimbo, Chile",
             "2015-11-07T07:04:31.380000",
             -72.3015,
             -29.4642,
             13000,
             6.2,
             2015
            ],
            [
             "39 km SW of Ovalle, Chile",
             "2015-11-07T07:31:43.870000",
             -71.4519,
             -30.8796,
             46000,
             6.8,
             2015
            ],
            [
             "81 km NW of Coquimbo, Chile",
             "2015-11-11T01:54:38.570000",
             -72.0068,
             -29.5067,
             12000,
             6.9,
             2015
            ],
            [
             "85 km NW of Coquimbo, Chile",
             "2015-11-11T02:46:19.830000",
             -72.0585,
             -29.5097,
             10000,
             6.9,
             2015
            ],
            [
             "65 km N of Taltal, Chile",
             "2015-11-27T21:00:22.920000",
             -70.6009,
             -24.828,
             34000,
             6.2,
             2015
            ]
           ],
           "hovertemplate": "<b>%{hovertext}</b><br><br>year=%{customdata[6]}<br>mag=%{marker.color}<br>lat=%{customdata[3]}<br>lon=%{customdata[2]}<br>desc=%{customdata[0]}<br>time=%{customdata[1]}<br>depth=%{customdata[4]}<extra></extra>",
           "hovertext": [
            "63 km W of Villa General Roca, Argentina",
            "103 km W of El Aguilar, Argentina",
            "75 km NW of Tomé, Chile",
            "50 km E of Calama, Chile",
            "74 km WNW of Talcahuano, Chile",
            "48 km W of Illapel, Chile",
            "54 km W of Illapel, Chile",
            "55 km WSW of Illapel, Chile",
            "71 km W of Illapel, Chile",
            "25 km WNW of Illapel, Chile",
            "70 km SW of Ovalle, Chile",
            "54 km WNW of Illapel, Chile",
            "61 km WNW of Illapel, Chile",
            "92 km NW of Valparaíso, Chile",
            "79 km WNW of Coquimbo, Chile",
            "79 km W of La Ligua, Chile",
            "54 km W of Illapel, Chile",
            "22 km WSW of Illapel, Chile",
            "22 km NNW of Illapel, Chile",
            "26 km SSW of Ovalle, Chile",
            "107 km WNW of Coquimbo, Chile",
            "39 km SW of Ovalle, Chile",
            "81 km NW of Coquimbo, Chile",
            "85 km NW of Coquimbo, Chile",
            "65 km N of Taltal, Chile"
           ],
           "lat": [
            -32.7183,
            -23.1125,
            -36.1167,
            -22.4,
            -36.3601,
            -31.5729,
            -31.618,
            -31.7502,
            -31.6,
            -31.5622,
            -31.1043,
            -31.4244,
            -31.5173,
            -32.3681,
            -29.6411,
            -32.3335,
            -31.5757,
            -31.7275,
            -31.4441,
            -30.8148,
            -29.4642,
            -30.8796,
            -29.5067,
            -29.5097,
            -24.828
           ],
           "legendgroup": "",
           "lon": [
            -67.1231,
            -66.688,
            -73.5219,
            -68.4323,
            -73.812,
            -71.6744,
            -71.745,
            -71.7425,
            -71.9189,
            -71.4262,
            -71.6504,
            -71.6876,
            -71.804,
            -72.2292,
            -72.077,
            -72.0629,
            -71.7431,
            -71.3792,
            -71.2653,
            -71.3217,
            -72.3015,
            -71.4519,
            -72.0068,
            -72.0585,
            -70.6009
           ],
           "marker": {
            "color": [
             6.3,
             6.7,
             6.2,
             6,
             6.4,
             8.3,
             6.4,
             6.1,
             6.1,
             7,
             6.4,
             6.5,
             6.7,
             6.2,
             6.1,
             6.2,
             6.1,
             6.6,
             6,
             6.3,
             6.2,
             6.8,
             6.9,
             6.9,
             6.2
            ],
            "coloraxis": "coloraxis",
            "size": [
             6.3,
             6.7,
             6.2,
             6,
             6.4,
             8.3,
             6.4,
             6.1,
             6.1,
             7,
             6.4,
             6.5,
             6.7,
             6.2,
             6.1,
             6.2,
             6.1,
             6.6,
             6,
             6.3,
             6.2,
             6.8,
             6.9,
             6.9,
             6.2
            ],
            "sizemode": "area",
            "sizeref": 0.05207100591715977
           },
           "mode": "markers",
           "name": "",
           "showlegend": false,
           "subplot": "mapbox",
           "type": "scattermapbox"
          }
         ],
         "name": "2015"
        },
        {
         "data": [
          {
           "customdata": [
            [
             "37 km W of Ovalle, Chile",
             "2016-02-10T00:33:05.340000",
             -71.5838,
             -30.5723,
             29000,
             6.3,
             2016
            ],
            [
             "105 km WSW of Coquimbo, Chile",
             "2016-02-22T06:36:59.400000",
             -72.2967,
             -30.4242,
             12000,
             6,
             2016
            ],
            [
             "54 km WNW of Diego de Almagro, Chile",
             "2016-07-25T17:26:50.210000",
             -70.5111,
             -26.1067,
             72000,
             6.1,
             2016
            ],
            [
             "88 km WSW of San Antonio, Chile",
             "2016-10-27T20:32:55.790000",
             -72.5321,
             -33.7771,
             12570,
             6,
             2016
            ],
            [
             "21 km SE of Curicó, Chile",
             "2016-11-04T16:20:44.440000",
             -71.0457,
             -35.0945,
             90000,
             6.3,
             2016
            ],
            [
             "42 km WNW of Talcahuano, Chile",
             "2016-11-08T04:55:45.900000",
             -73.5603,
             -36.5776,
             20000,
             6,
             2016
            ],
            [
             "7 km NNW of Pocito, Argentina",
             "2016-11-20T20:57:44",
             -68.6259,
             -31.6226,
             108000,
             6.4,
             2016
            ]
           ],
           "hovertemplate": "<b>%{hovertext}</b><br><br>year=%{customdata[6]}<br>mag=%{marker.color}<br>lat=%{customdata[3]}<br>lon=%{customdata[2]}<br>desc=%{customdata[0]}<br>time=%{customdata[1]}<br>depth=%{customdata[4]}<extra></extra>",
           "hovertext": [
            "37 km W of Ovalle, Chile",
            "105 km WSW of Coquimbo, Chile",
            "54 km WNW of Diego de Almagro, Chile",
            "88 km WSW of San Antonio, Chile",
            "21 km SE of Curicó, Chile",
            "42 km WNW of Talcahuano, Chile",
            "7 km NNW of Pocito, Argentina"
           ],
           "lat": [
            -30.5723,
            -30.4242,
            -26.1067,
            -33.7771,
            -35.0945,
            -36.5776,
            -31.6226
           ],
           "legendgroup": "",
           "lon": [
            -71.5838,
            -72.2967,
            -70.5111,
            -72.5321,
            -71.0457,
            -73.5603,
            -68.6259
           ],
           "marker": {
            "color": [
             6.3,
             6,
             6.1,
             6,
             6.3,
             6,
             6.4
            ],
            "coloraxis": "coloraxis",
            "size": [
             6.3,
             6,
             6.1,
             6,
             6.3,
             6,
             6.4
            ],
            "sizemode": "area",
            "sizeref": 0.05207100591715977
           },
           "mode": "markers",
           "name": "",
           "showlegend": false,
           "subplot": "mapbox",
           "type": "scattermapbox"
          }
         ],
         "name": "2016"
        },
        {
         "data": [
          {
           "customdata": [
            [
             "52 km NW of San Antonio de los Cobres, Argentina",
             "2017-02-18T12:10:17.970000",
             -66.6592,
             -23.8613,
             222000,
             6.4,
             2017
            ],
            [
             "62 km SE of San Pedro de Atacama, Chile",
             "2017-04-15T08:19:43.390000",
             -67.7225,
             -23.2653,
             155000,
             6.3,
             2017
            ],
            [
             "37 km W of Valparaíso, Chile",
             "2017-04-23T02:36:07.830000",
             -72.0296,
             -33.0354,
             21000,
             6,
             2017
            ],
            [
             "40 km W of Valparaíso, Chile",
             "2017-04-24T21:38:30.820000",
             -72.0617,
             -33.0375,
             28000,
             6.9,
             2017
            ]
           ],
           "hovertemplate": "<b>%{hovertext}</b><br><br>year=%{customdata[6]}<br>mag=%{marker.color}<br>lat=%{customdata[3]}<br>lon=%{customdata[2]}<br>desc=%{customdata[0]}<br>time=%{customdata[1]}<br>depth=%{customdata[4]}<extra></extra>",
           "hovertext": [
            "52 km NW of San Antonio de los Cobres, Argentina",
            "62 km SE of San Pedro de Atacama, Chile",
            "37 km W of Valparaíso, Chile",
            "40 km W of Valparaíso, Chile"
           ],
           "lat": [
            -23.8613,
            -23.2653,
            -33.0354,
            -33.0375
           ],
           "legendgroup": "",
           "lon": [
            -66.6592,
            -67.7225,
            -72.0296,
            -72.0617
           ],
           "marker": {
            "color": [
             6.4,
             6.3,
             6,
             6.9
            ],
            "coloraxis": "coloraxis",
            "size": [
             6.4,
             6.3,
             6,
             6.9
            ],
            "sizemode": "area",
            "sizeref": 0.05207100591715977
           },
           "mode": "markers",
           "name": "",
           "showlegend": false,
           "subplot": "mapbox",
           "type": "scattermapbox"
          }
         ],
         "name": "2017"
        },
        {
         "data": [
          {
           "customdata": [
            [
             "56 km SW of Ovalle, Chile",
             "2018-04-10T10:19:34.370000",
             -71.5292,
             -31.0258,
             66000,
             6.2,
             2018
            ]
           ],
           "hovertemplate": "<b>%{hovertext}</b><br><br>year=%{customdata[6]}<br>mag=%{marker.color}<br>lat=%{customdata[3]}<br>lon=%{customdata[2]}<br>desc=%{customdata[0]}<br>time=%{customdata[1]}<br>depth=%{customdata[4]}<extra></extra>",
           "hovertext": [
            "56 km SW of Ovalle, Chile"
           ],
           "lat": [
            -31.0258
           ],
           "legendgroup": "",
           "lon": [
            -71.5292
           ],
           "marker": {
            "color": [
             6.2
            ],
            "coloraxis": "coloraxis",
            "size": [
             6.2
            ],
            "sizemode": "area",
            "sizeref": 0.05207100591715977
           },
           "mode": "markers",
           "name": "",
           "showlegend": false,
           "subplot": "mapbox",
           "type": "scattermapbox"
          }
         ],
         "name": "2018"
        },
        {
         "data": [
          {
           "customdata": [
            [
             "10 km SSW of Coquimbo, Chile",
             "2019-01-20T01:32:52.480000",
             -71.3815,
             -30.0404,
             63000,
             6.7,
             2019
            ],
            [
             "72 km W of Coquimbo, Chile",
             "2019-06-14T00:19:12.401000",
             -72.0819,
             -30.0557,
             11000,
             6.4,
             2019
            ],
            [
             "96 km SW of San Antonio, Chile",
             "2019-08-01T18:28:07.270000",
             -72.3102,
             -34.2364,
             25000,
             6.8,
             2019
            ],
            [
             "30 km W of Villa La Angostura, Argentina",
             "2019-09-26T16:36:18.155000",
             -71.9993,
             -40.8145,
             129000,
             6.1,
             2019
            ],
            [
             "70 km WSW of Constitución, Chile",
             "2019-09-29T15:57:53.236000",
             -73.163,
             -35.4758,
             11000,
             6.7,
             2019
            ],
            [
             "29 km SW of Illapel, Chile",
             "2019-11-04T21:53:25.320000",
             -71.3753,
             -31.8362,
             53000,
             6.1,
             2019
            ],
            [
             "16 km WNW of El Hoyo, Argentina",
             "2019-12-24T16:43:33.420000",
             -63.3857,
             -26.964,
             572440,
             6,
             2019
            ]
           ],
           "hovertemplate": "<b>%{hovertext}</b><br><br>year=%{customdata[6]}<br>mag=%{marker.color}<br>lat=%{customdata[3]}<br>lon=%{customdata[2]}<br>desc=%{customdata[0]}<br>time=%{customdata[1]}<br>depth=%{customdata[4]}<extra></extra>",
           "hovertext": [
            "10 km SSW of Coquimbo, Chile",
            "72 km W of Coquimbo, Chile",
            "96 km SW of San Antonio, Chile",
            "30 km W of Villa La Angostura, Argentina",
            "70 km WSW of Constitución, Chile",
            "29 km SW of Illapel, Chile",
            "16 km WNW of El Hoyo, Argentina"
           ],
           "lat": [
            -30.0404,
            -30.0557,
            -34.2364,
            -40.8145,
            -35.4758,
            -31.8362,
            -26.964
           ],
           "legendgroup": "",
           "lon": [
            -71.3815,
            -72.0819,
            -72.3102,
            -71.9993,
            -73.163,
            -71.3753,
            -63.3857
           ],
           "marker": {
            "color": [
             6.7,
             6.4,
             6.8,
             6.1,
             6.7,
             6.1,
             6
            ],
            "coloraxis": "coloraxis",
            "size": [
             6.7,
             6.4,
             6.8,
             6.1,
             6.7,
             6.1,
             6
            ],
            "sizemode": "area",
            "sizeref": 0.05207100591715977
           },
           "mode": "markers",
           "name": "",
           "showlegend": false,
           "subplot": "mapbox",
           "type": "scattermapbox"
          }
         ],
         "name": "2019"
        }
       ],
       "layout": {
        "coloraxis": {
         "cmax": 10,
         "cmin": 6,
         "colorbar": {
          "title": {
           "text": "mag"
          }
         },
         "colorscale": [
          [
           0,
           "#0d0887"
          ],
          [
           0.1111111111111111,
           "#46039f"
          ],
          [
           0.2222222222222222,
           "#7201a8"
          ],
          [
           0.3333333333333333,
           "#9c179e"
          ],
          [
           0.4444444444444444,
           "#bd3786"
          ],
          [
           0.5555555555555556,
           "#d8576b"
          ],
          [
           0.6666666666666666,
           "#ed7953"
          ],
          [
           0.7777777777777778,
           "#fb9f3a"
          ],
          [
           0.8888888888888888,
           "#fdca26"
          ],
          [
           1,
           "#f0f921"
          ]
         ]
        },
        "height": 800,
        "legend": {
         "itemsizing": "constant",
         "tracegroupgap": 0
        },
        "mapbox": {
         "center": {
          "lat": -36.122,
          "lon": -72.898
         },
         "domain": {
          "x": [
           0,
           1
          ],
          "y": [
           0,
           1
          ]
         },
         "layers": [
          {
           "below": "traces",
           "source": [
            "https://basemap.nationalmap.gov/arcgis/rest/services/USGSImageryOnly/MapServer/tile/{z}/{y}/{x}"
           ],
           "sourcetype": "raster"
          }
         ],
         "style": "white-bg",
         "zoom": 3
        },
        "margin": {
         "t": 60
        },
        "sliders": [
         {
          "active": 0,
          "currentvalue": {
           "prefix": "year="
          },
          "len": 0.9,
          "pad": {
           "b": 10,
           "t": 60
          },
          "steps": [
           {
            "args": [
             [
              "2010"
             ],
             {
              "frame": {
               "duration": 0,
               "redraw": true
              },
              "fromcurrent": true,
              "mode": "immediate",
              "transition": {
               "duration": 0,
               "easing": "linear"
              }
             }
            ],
            "label": "2010",
            "method": "animate"
           },
           {
            "args": [
             [
              "2011"
             ],
             {
              "frame": {
               "duration": 0,
               "redraw": true
              },
              "fromcurrent": true,
              "mode": "immediate",
              "transition": {
               "duration": 0,
               "easing": "linear"
              }
             }
            ],
            "label": "2011",
            "method": "animate"
           },
           {
            "args": [
             [
              "2012"
             ],
             {
              "frame": {
               "duration": 0,
               "redraw": true
              },
              "fromcurrent": true,
              "mode": "immediate",
              "transition": {
               "duration": 0,
               "easing": "linear"
              }
             }
            ],
            "label": "2012",
            "method": "animate"
           },
           {
            "args": [
             [
              "2013"
             ],
             {
              "frame": {
               "duration": 0,
               "redraw": true
              },
              "fromcurrent": true,
              "mode": "immediate",
              "transition": {
               "duration": 0,
               "easing": "linear"
              }
             }
            ],
            "label": "2013",
            "method": "animate"
           },
           {
            "args": [
             [
              "2014"
             ],
             {
              "frame": {
               "duration": 0,
               "redraw": true
              },
              "fromcurrent": true,
              "mode": "immediate",
              "transition": {
               "duration": 0,
               "easing": "linear"
              }
             }
            ],
            "label": "2014",
            "method": "animate"
           },
           {
            "args": [
             [
              "2015"
             ],
             {
              "frame": {
               "duration": 0,
               "redraw": true
              },
              "fromcurrent": true,
              "mode": "immediate",
              "transition": {
               "duration": 0,
               "easing": "linear"
              }
             }
            ],
            "label": "2015",
            "method": "animate"
           },
           {
            "args": [
             [
              "2016"
             ],
             {
              "frame": {
               "duration": 0,
               "redraw": true
              },
              "fromcurrent": true,
              "mode": "immediate",
              "transition": {
               "duration": 0,
               "easing": "linear"
              }
             }
            ],
            "label": "2016",
            "method": "animate"
           },
           {
            "args": [
             [
              "2017"
             ],
             {
              "frame": {
               "duration": 0,
               "redraw": true
              },
              "fromcurrent": true,
              "mode": "immediate",
              "transition": {
               "duration": 0,
               "easing": "linear"
              }
             }
            ],
            "label": "2017",
            "method": "animate"
           },
           {
            "args": [
             [
              "2018"
             ],
             {
              "frame": {
               "duration": 0,
               "redraw": true
              },
              "fromcurrent": true,
              "mode": "immediate",
              "transition": {
               "duration": 0,
               "easing": "linear"
              }
             }
            ],
            "label": "2018",
            "method": "animate"
           },
           {
            "args": [
             [
              "2019"
             ],
             {
              "frame": {
               "duration": 0,
               "redraw": true
              },
              "fromcurrent": true,
              "mode": "immediate",
              "transition": {
               "duration": 0,
               "easing": "linear"
              }
             }
            ],
            "label": "2019",
            "method": "animate"
           }
          ],
          "x": 0.1,
          "xanchor": "left",
          "y": 0,
          "yanchor": "top"
         }
        ],
        "template": {
         "data": {
          "bar": [
           {
            "error_x": {
             "color": "#2a3f5f"
            },
            "error_y": {
             "color": "#2a3f5f"
            },
            "marker": {
             "line": {
              "color": "#E5ECF6",
              "width": 0.5
             },
             "pattern": {
              "fillmode": "overlay",
              "size": 10,
              "solidity": 0.2
             }
            },
            "type": "bar"
           }
          ],
          "barpolar": [
           {
            "marker": {
             "line": {
              "color": "#E5ECF6",
              "width": 0.5
             },
             "pattern": {
              "fillmode": "overlay",
              "size": 10,
              "solidity": 0.2
             }
            },
            "type": "barpolar"
           }
          ],
          "carpet": [
           {
            "aaxis": {
             "endlinecolor": "#2a3f5f",
             "gridcolor": "white",
             "linecolor": "white",
             "minorgridcolor": "white",
             "startlinecolor": "#2a3f5f"
            },
            "baxis": {
             "endlinecolor": "#2a3f5f",
             "gridcolor": "white",
             "linecolor": "white",
             "minorgridcolor": "white",
             "startlinecolor": "#2a3f5f"
            },
            "type": "carpet"
           }
          ],
          "choropleth": [
           {
            "colorbar": {
             "outlinewidth": 0,
             "ticks": ""
            },
            "type": "choropleth"
           }
          ],
          "contour": [
           {
            "colorbar": {
             "outlinewidth": 0,
             "ticks": ""
            },
            "colorscale": [
             [
              0,
              "#0d0887"
             ],
             [
              0.1111111111111111,
              "#46039f"
             ],
             [
              0.2222222222222222,
              "#7201a8"
             ],
             [
              0.3333333333333333,
              "#9c179e"
             ],
             [
              0.4444444444444444,
              "#bd3786"
             ],
             [
              0.5555555555555556,
              "#d8576b"
             ],
             [
              0.6666666666666666,
              "#ed7953"
             ],
             [
              0.7777777777777778,
              "#fb9f3a"
             ],
             [
              0.8888888888888888,
              "#fdca26"
             ],
             [
              1,
              "#f0f921"
             ]
            ],
            "type": "contour"
           }
          ],
          "contourcarpet": [
           {
            "colorbar": {
             "outlinewidth": 0,
             "ticks": ""
            },
            "type": "contourcarpet"
           }
          ],
          "heatmap": [
           {
            "colorbar": {
             "outlinewidth": 0,
             "ticks": ""
            },
            "colorscale": [
             [
              0,
              "#0d0887"
             ],
             [
              0.1111111111111111,
              "#46039f"
             ],
             [
              0.2222222222222222,
              "#7201a8"
             ],
             [
              0.3333333333333333,
              "#9c179e"
             ],
             [
              0.4444444444444444,
              "#bd3786"
             ],
             [
              0.5555555555555556,
              "#d8576b"
             ],
             [
              0.6666666666666666,
              "#ed7953"
             ],
             [
              0.7777777777777778,
              "#fb9f3a"
             ],
             [
              0.8888888888888888,
              "#fdca26"
             ],
             [
              1,
              "#f0f921"
             ]
            ],
            "type": "heatmap"
           }
          ],
          "heatmapgl": [
           {
            "colorbar": {
             "outlinewidth": 0,
             "ticks": ""
            },
            "colorscale": [
             [
              0,
              "#0d0887"
             ],
             [
              0.1111111111111111,
              "#46039f"
             ],
             [
              0.2222222222222222,
              "#7201a8"
             ],
             [
              0.3333333333333333,
              "#9c179e"
             ],
             [
              0.4444444444444444,
              "#bd3786"
             ],
             [
              0.5555555555555556,
              "#d8576b"
             ],
             [
              0.6666666666666666,
              "#ed7953"
             ],
             [
              0.7777777777777778,
              "#fb9f3a"
             ],
             [
              0.8888888888888888,
              "#fdca26"
             ],
             [
              1,
              "#f0f921"
             ]
            ],
            "type": "heatmapgl"
           }
          ],
          "histogram": [
           {
            "marker": {
             "pattern": {
              "fillmode": "overlay",
              "size": 10,
              "solidity": 0.2
             }
            },
            "type": "histogram"
           }
          ],
          "histogram2d": [
           {
            "colorbar": {
             "outlinewidth": 0,
             "ticks": ""
            },
            "colorscale": [
             [
              0,
              "#0d0887"
             ],
             [
              0.1111111111111111,
              "#46039f"
             ],
             [
              0.2222222222222222,
              "#7201a8"
             ],
             [
              0.3333333333333333,
              "#9c179e"
             ],
             [
              0.4444444444444444,
              "#bd3786"
             ],
             [
              0.5555555555555556,
              "#d8576b"
             ],
             [
              0.6666666666666666,
              "#ed7953"
             ],
             [
              0.7777777777777778,
              "#fb9f3a"
             ],
             [
              0.8888888888888888,
              "#fdca26"
             ],
             [
              1,
              "#f0f921"
             ]
            ],
            "type": "histogram2d"
           }
          ],
          "histogram2dcontour": [
           {
            "colorbar": {
             "outlinewidth": 0,
             "ticks": ""
            },
            "colorscale": [
             [
              0,
              "#0d0887"
             ],
             [
              0.1111111111111111,
              "#46039f"
             ],
             [
              0.2222222222222222,
              "#7201a8"
             ],
             [
              0.3333333333333333,
              "#9c179e"
             ],
             [
              0.4444444444444444,
              "#bd3786"
             ],
             [
              0.5555555555555556,
              "#d8576b"
             ],
             [
              0.6666666666666666,
              "#ed7953"
             ],
             [
              0.7777777777777778,
              "#fb9f3a"
             ],
             [
              0.8888888888888888,
              "#fdca26"
             ],
             [
              1,
              "#f0f921"
             ]
            ],
            "type": "histogram2dcontour"
           }
          ],
          "mesh3d": [
           {
            "colorbar": {
             "outlinewidth": 0,
             "ticks": ""
            },
            "type": "mesh3d"
           }
          ],
          "parcoords": [
           {
            "line": {
             "colorbar": {
              "outlinewidth": 0,
              "ticks": ""
             }
            },
            "type": "parcoords"
           }
          ],
          "pie": [
           {
            "automargin": true,
            "type": "pie"
           }
          ],
          "scatter": [
           {
            "marker": {
             "colorbar": {
              "outlinewidth": 0,
              "ticks": ""
             }
            },
            "type": "scatter"
           }
          ],
          "scatter3d": [
           {
            "line": {
             "colorbar": {
              "outlinewidth": 0,
              "ticks": ""
             }
            },
            "marker": {
             "colorbar": {
              "outlinewidth": 0,
              "ticks": ""
             }
            },
            "type": "scatter3d"
           }
          ],
          "scattercarpet": [
           {
            "marker": {
             "colorbar": {
              "outlinewidth": 0,
              "ticks": ""
             }
            },
            "type": "scattercarpet"
           }
          ],
          "scattergeo": [
           {
            "marker": {
             "colorbar": {
              "outlinewidth": 0,
              "ticks": ""
             }
            },
            "type": "scattergeo"
           }
          ],
          "scattergl": [
           {
            "marker": {
             "colorbar": {
              "outlinewidth": 0,
              "ticks": ""
             }
            },
            "type": "scattergl"
           }
          ],
          "scattermapbox": [
           {
            "marker": {
             "colorbar": {
              "outlinewidth": 0,
              "ticks": ""
             }
            },
            "type": "scattermapbox"
           }
          ],
          "scatterpolar": [
           {
            "marker": {
             "colorbar": {
              "outlinewidth": 0,
              "ticks": ""
             }
            },
            "type": "scatterpolar"
           }
          ],
          "scatterpolargl": [
           {
            "marker": {
             "colorbar": {
              "outlinewidth": 0,
              "ticks": ""
             }
            },
            "type": "scatterpolargl"
           }
          ],
          "scatterternary": [
           {
            "marker": {
             "colorbar": {
              "outlinewidth": 0,
              "ticks": ""
             }
            },
            "type": "scatterternary"
           }
          ],
          "surface": [
           {
            "colorbar": {
             "outlinewidth": 0,
             "ticks": ""
            },
            "colorscale": [
             [
              0,
              "#0d0887"
             ],
             [
              0.1111111111111111,
              "#46039f"
             ],
             [
              0.2222222222222222,
              "#7201a8"
             ],
             [
              0.3333333333333333,
              "#9c179e"
             ],
             [
              0.4444444444444444,
              "#bd3786"
             ],
             [
              0.5555555555555556,
              "#d8576b"
             ],
             [
              0.6666666666666666,
              "#ed7953"
             ],
             [
              0.7777777777777778,
              "#fb9f3a"
             ],
             [
              0.8888888888888888,
              "#fdca26"
             ],
             [
              1,
              "#f0f921"
             ]
            ],
            "type": "surface"
           }
          ],
          "table": [
           {
            "cells": {
             "fill": {
              "color": "#EBF0F8"
             },
             "line": {
              "color": "white"
             }
            },
            "header": {
             "fill": {
              "color": "#C8D4E3"
             },
             "line": {
              "color": "white"
             }
            },
            "type": "table"
           }
          ]
         },
         "layout": {
          "annotationdefaults": {
           "arrowcolor": "#2a3f5f",
           "arrowhead": 0,
           "arrowwidth": 1
          },
          "autotypenumbers": "strict",
          "coloraxis": {
           "colorbar": {
            "outlinewidth": 0,
            "ticks": ""
           }
          },
          "colorscale": {
           "diverging": [
            [
             0,
             "#8e0152"
            ],
            [
             0.1,
             "#c51b7d"
            ],
            [
             0.2,
             "#de77ae"
            ],
            [
             0.3,
             "#f1b6da"
            ],
            [
             0.4,
             "#fde0ef"
            ],
            [
             0.5,
             "#f7f7f7"
            ],
            [
             0.6,
             "#e6f5d0"
            ],
            [
             0.7,
             "#b8e186"
            ],
            [
             0.8,
             "#7fbc41"
            ],
            [
             0.9,
             "#4d9221"
            ],
            [
             1,
             "#276419"
            ]
           ],
           "sequential": [
            [
             0,
             "#0d0887"
            ],
            [
             0.1111111111111111,
             "#46039f"
            ],
            [
             0.2222222222222222,
             "#7201a8"
            ],
            [
             0.3333333333333333,
             "#9c179e"
            ],
            [
             0.4444444444444444,
             "#bd3786"
            ],
            [
             0.5555555555555556,
             "#d8576b"
            ],
            [
             0.6666666666666666,
             "#ed7953"
            ],
            [
             0.7777777777777778,
             "#fb9f3a"
            ],
            [
             0.8888888888888888,
             "#fdca26"
            ],
            [
             1,
             "#f0f921"
            ]
           ],
           "sequentialminus": [
            [
             0,
             "#0d0887"
            ],
            [
             0.1111111111111111,
             "#46039f"
            ],
            [
             0.2222222222222222,
             "#7201a8"
            ],
            [
             0.3333333333333333,
             "#9c179e"
            ],
            [
             0.4444444444444444,
             "#bd3786"
            ],
            [
             0.5555555555555556,
             "#d8576b"
            ],
            [
             0.6666666666666666,
             "#ed7953"
            ],
            [
             0.7777777777777778,
             "#fb9f3a"
            ],
            [
             0.8888888888888888,
             "#fdca26"
            ],
            [
             1,
             "#f0f921"
            ]
           ]
          },
          "colorway": [
           "#636efa",
           "#EF553B",
           "#00cc96",
           "#ab63fa",
           "#FFA15A",
           "#19d3f3",
           "#FF6692",
           "#B6E880",
           "#FF97FF",
           "#FECB52"
          ],
          "font": {
           "color": "#2a3f5f"
          },
          "geo": {
           "bgcolor": "white",
           "lakecolor": "white",
           "landcolor": "#E5ECF6",
           "showlakes": true,
           "showland": true,
           "subunitcolor": "white"
          },
          "hoverlabel": {
           "align": "left"
          },
          "hovermode": "closest",
          "mapbox": {
           "style": "light"
          },
          "paper_bgcolor": "white",
          "plot_bgcolor": "#E5ECF6",
          "polar": {
           "angularaxis": {
            "gridcolor": "white",
            "linecolor": "white",
            "ticks": ""
           },
           "bgcolor": "#E5ECF6",
           "radialaxis": {
            "gridcolor": "white",
            "linecolor": "white",
            "ticks": ""
           }
          },
          "scene": {
           "xaxis": {
            "backgroundcolor": "#E5ECF6",
            "gridcolor": "white",
            "gridwidth": 2,
            "linecolor": "white",
            "showbackground": true,
            "ticks": "",
            "zerolinecolor": "white"
           },
           "yaxis": {
            "backgroundcolor": "#E5ECF6",
            "gridcolor": "white",
            "gridwidth": 2,
            "linecolor": "white",
            "showbackground": true,
            "ticks": "",
            "zerolinecolor": "white"
           },
           "zaxis": {
            "backgroundcolor": "#E5ECF6",
            "gridcolor": "white",
            "gridwidth": 2,
            "linecolor": "white",
            "showbackground": true,
            "ticks": "",
            "zerolinecolor": "white"
           }
          },
          "shapedefaults": {
           "line": {
            "color": "#2a3f5f"
           }
          },
          "ternary": {
           "aaxis": {
            "gridcolor": "white",
            "linecolor": "white",
            "ticks": ""
           },
           "baxis": {
            "gridcolor": "white",
            "linecolor": "white",
            "ticks": ""
           },
           "bgcolor": "#E5ECF6",
           "caxis": {
            "gridcolor": "white",
            "linecolor": "white",
            "ticks": ""
           }
          },
          "title": {
           "x": 0.05
          },
          "xaxis": {
           "automargin": true,
           "gridcolor": "white",
           "linecolor": "white",
           "ticks": "",
           "title": {
            "standoff": 15
           },
           "zerolinecolor": "white",
           "zerolinewidth": 2
          },
          "yaxis": {
           "automargin": true,
           "gridcolor": "white",
           "linecolor": "white",
           "ticks": "",
           "title": {
            "standoff": 15
           },
           "zerolinecolor": "white",
           "zerolinewidth": 2
          }
         }
        },
        "updatemenus": [
         {
          "buttons": [
           {
            "args": [
             null,
             {
              "frame": {
               "duration": 500,
               "redraw": true
              },
              "fromcurrent": true,
              "mode": "immediate",
              "transition": {
               "duration": 500,
               "easing": "linear"
              }
             }
            ],
            "label": "&#9654;",
            "method": "animate"
           },
           {
            "args": [
             [
              null
             ],
             {
              "frame": {
               "duration": 0,
               "redraw": true
              },
              "fromcurrent": true,
              "mode": "immediate",
              "transition": {
               "duration": 0,
               "easing": "linear"
              }
             }
            ],
            "label": "&#9724;",
            "method": "animate"
           }
          ],
          "direction": "left",
          "pad": {
           "r": 10,
           "t": 70
          },
          "showactive": false,
          "type": "buttons",
          "x": 0.1,
          "xanchor": "right",
          "y": 0,
          "yanchor": "top"
         }
        ],
        "width": 900
       }
      },
      "text/html": [
       "<div>                            <div id=\"c3d680be-e6c9-4db2-b7e6-20787515c370\" class=\"plotly-graph-div\" style=\"height:800px; width:900px;\"></div>            <script type=\"text/javascript\">                require([\"plotly\"], function(Plotly) {                    window.PLOTLYENV=window.PLOTLYENV || {};                                    if (document.getElementById(\"c3d680be-e6c9-4db2-b7e6-20787515c370\")) {                    Plotly.newPlot(                        \"c3d680be-e6c9-4db2-b7e6-20787515c370\",                        [{\"customdata\":[[\"36 km WNW of Quirihue, Chile\",\"2010-02-27T06:34:11.530000\",-72.898,-36.122,22900.0,8.8,2010],[\"40 km WSW of Villa Basilio Nievas, Argentina\",\"2010-02-27T06:51:17.650000\",-69.141,-31.663,39800.0,6.0,2010],[\"54 km NNW of Constituci\\u00f3n, Chile\",\"2010-02-27T06:52:34.020000\",-72.614,-34.867,35000.0,6.2,2010],[\"44 km SW of San Antonio, Chile\",\"2010-02-27T07:12:28.450000\",-71.943,-33.878,35000.0,6.0,2010],[\"27 km NNW of Yumbel, Chile\",\"2010-02-27T07:37:17.960000\",-72.673,-36.869,35000.0,6.0,2010],[\"124 km W of Lebu, Chile\",\"2010-02-27T08:01:23.010000\",-75.048,-37.773,35000.0,7.4,2010],[\"64 km N of Constituci\\u00f3n, Chile\",\"2010-02-27T08:25:29.620000\",-72.427,-34.749,35000.0,6.1,2010],[\"15 km WSW of Ca\\u00f1ete, Chile\",\"2010-02-27T10:30:10\",-73.545,-37.878,20000.0,6.0,2010],[\"40 km SW of Valpara\\u00edso, Chile\",\"2010-02-27T10:30:36.400000\",-71.955,-33.281,35000.0,6.0,2010],[\"5 km NE of Campo Quijano, Argentina\",\"2010-02-27T15:45:37\",-65.602,-24.872,10000.0,6.3,2010],[\"36 km NW of Tom\\u00e9, Chile\",\"2010-02-27T17:24:30.590000\",-73.208,-36.354,19000.0,6.1,2010],[\"25 km NW of Cartagena, Chile\",\"2010-02-27T19:00:06.860000\",-71.828,-33.422,31100.0,6.2,2010],[\"42 km W of Santa Cruz, Chile\",\"2010-02-27T23:12:34.910000\",-71.827,-34.7,35000.0,6.0,2010],[\"27 km W of Rauco, Chile\",\"2010-02-28T11:25:35.920000\",-71.617,-34.903,46000.0,6.2,2010],[\"25 km WNW of Talcahuano, Chile\",\"2010-03-03T17:44:25.040000\",-73.36,-36.61,20000.0,6.1,2010],[\"50 km WSW of Valpara\\u00edso, Chile\",\"2010-03-04T01:59:48.670000\",-72.125,-33.216,24200.0,6.0,2010],[\"66 km ENE of Calama, Chile\",\"2010-03-04T22:39:26.530000\",-68.328,-22.227,114000.0,6.3,2010],[\"14 km NW of Talcahuano, Chile\",\"2010-03-05T09:19:36.380000\",-73.223,-36.631,29900.0,6.1,2010],[\"23 km WNW of Talcahuano, Chile\",\"2010-03-05T11:47:06.820000\",-73.374,-36.665,18000.0,6.6,2010],[\"61 km NW of Santa Cruz, Chile\",\"2010-03-11T14:39:43.950000\",-71.891,-34.29,11000.0,6.9,2010],[\"52 km NW of Santa Cruz, Chile\",\"2010-03-11T14:55:27.510000\",-71.799,-34.326,18000.0,7.0,2010],[\"61 km WNW of Santa Cruz, Chile\",\"2010-03-11T15:06:02.130000\",-72.004,-34.47,31500.0,6.0,2010],[\"76 km NW of Quirihue, Chile\",\"2010-03-15T11:08:28.960000\",-73.158,-35.802,14000.0,6.2,2010],[\"52 km NNW of Tom\\u00e9, Chile\",\"2010-03-16T02:21:57.940000\",-73.257,-36.217,18000.0,6.7,2010],[\"69 km N of Vallenar, Chile\",\"2010-03-26T14:52:07.230000\",-70.821,-27.953,42000.0,6.3,2010],[\"88 km W of Constituci\\u00f3n, Chile\",\"2010-03-28T21:38:28\",-73.385,-35.387,29900.0,6.0,2010],[\"30 km W of Quirihue, Chile\",\"2010-04-02T22:58:07.560000\",-72.878,-36.227,24000.0,6.0,2010],[\"26 km W of Nacimiento, Chile\",\"2010-04-23T10:03:06.180000\",-72.969,-37.529,32000.0,6.0,2010],[\"30 km S of Ca\\u00f1ete, Chile\",\"2010-05-03T23:09:44.790000\",-73.454,-38.072,19000.0,6.3,2010],[\"80 km ENE of Calama, Chile\",\"2010-07-12T00:11:21.250000\",-68.216,-22.146,115000.0,6.3,2010],[\"30 km SSE of Ca\\u00f1ete, Chile\",\"2010-07-14T08:32:21.490000\",-73.31,-38.067,22000.0,6.6,2010],[\"23 km WNW of Lota, Chile\",\"2010-09-09T07:28:01.720000\",-73.412,-37.034,16000.0,6.2,2010]],\"hovertemplate\":\"<b>%{hovertext}</b><br><br>year=%{customdata[6]}<br>mag=%{marker.color}<br>lat=%{customdata[3]}<br>lon=%{customdata[2]}<br>desc=%{customdata[0]}<br>time=%{customdata[1]}<br>depth=%{customdata[4]}<extra></extra>\",\"hovertext\":[\"36 km WNW of Quirihue, Chile\",\"40 km WSW of Villa Basilio Nievas, Argentina\",\"54 km NNW of Constituci\\u00f3n, Chile\",\"44 km SW of San Antonio, Chile\",\"27 km NNW of Yumbel, Chile\",\"124 km W of Lebu, Chile\",\"64 km N of Constituci\\u00f3n, Chile\",\"15 km WSW of Ca\\u00f1ete, Chile\",\"40 km SW of Valpara\\u00edso, Chile\",\"5 km NE of Campo Quijano, Argentina\",\"36 km NW of Tom\\u00e9, Chile\",\"25 km NW of Cartagena, Chile\",\"42 km W of Santa Cruz, Chile\",\"27 km W of Rauco, Chile\",\"25 km WNW of Talcahuano, Chile\",\"50 km WSW of Valpara\\u00edso, Chile\",\"66 km ENE of Calama, Chile\",\"14 km NW of Talcahuano, Chile\",\"23 km WNW of Talcahuano, Chile\",\"61 km NW of Santa Cruz, Chile\",\"52 km NW of Santa Cruz, Chile\",\"61 km WNW of Santa Cruz, Chile\",\"76 km NW of Quirihue, Chile\",\"52 km NNW of Tom\\u00e9, Chile\",\"69 km N of Vallenar, Chile\",\"88 km W of Constituci\\u00f3n, Chile\",\"30 km W of Quirihue, Chile\",\"26 km W of Nacimiento, Chile\",\"30 km S of Ca\\u00f1ete, Chile\",\"80 km ENE of Calama, Chile\",\"30 km SSE of Ca\\u00f1ete, Chile\",\"23 km WNW of Lota, Chile\"],\"lat\":[-36.122,-31.663,-34.867,-33.878,-36.869,-37.773,-34.749,-37.878,-33.281,-24.872,-36.354,-33.422,-34.7,-34.903,-36.61,-33.216,-22.227,-36.631,-36.665,-34.29,-34.326,-34.47,-35.802,-36.217,-27.953,-35.387,-36.227,-37.529,-38.072,-22.146,-38.067,-37.034],\"legendgroup\":\"\",\"lon\":[-72.898,-69.141,-72.614,-71.943,-72.673,-75.048,-72.427,-73.545,-71.955,-65.602,-73.208,-71.828,-71.827,-71.617,-73.36,-72.125,-68.328,-73.223,-73.374,-71.891,-71.799,-72.004,-73.158,-73.257,-70.821,-73.385,-72.878,-72.969,-73.454,-68.216,-73.31,-73.412],\"marker\":{\"color\":[8.8,6.0,6.2,6.0,6.0,7.4,6.1,6.0,6.0,6.3,6.1,6.2,6.0,6.2,6.1,6.0,6.3,6.1,6.6,6.9,7.0,6.0,6.2,6.7,6.3,6.0,6.0,6.0,6.3,6.3,6.6,6.2],\"coloraxis\":\"coloraxis\",\"size\":[8.8,6.0,6.2,6.0,6.0,7.4,6.1,6.0,6.0,6.3,6.1,6.2,6.0,6.2,6.1,6.0,6.3,6.1,6.6,6.9,7.0,6.0,6.2,6.7,6.3,6.0,6.0,6.0,6.3,6.3,6.6,6.2],\"sizemode\":\"area\",\"sizeref\":0.05207100591715977},\"mode\":\"markers\",\"name\":\"\",\"showlegend\":false,\"subplot\":\"mapbox\",\"type\":\"scattermapbox\"}],                        {\"coloraxis\":{\"cmax\":10,\"cmin\":6,\"colorbar\":{\"title\":{\"text\":\"mag\"}},\"colorscale\":[[0.0,\"#0d0887\"],[0.1111111111111111,\"#46039f\"],[0.2222222222222222,\"#7201a8\"],[0.3333333333333333,\"#9c179e\"],[0.4444444444444444,\"#bd3786\"],[0.5555555555555556,\"#d8576b\"],[0.6666666666666666,\"#ed7953\"],[0.7777777777777778,\"#fb9f3a\"],[0.8888888888888888,\"#fdca26\"],[1.0,\"#f0f921\"]]},\"height\":800,\"legend\":{\"itemsizing\":\"constant\",\"tracegroupgap\":0},\"mapbox\":{\"center\":{\"lat\":-36.122,\"lon\":-72.898},\"domain\":{\"x\":[0.0,1.0],\"y\":[0.0,1.0]},\"layers\":[{\"below\":\"traces\",\"source\":[\"https://basemap.nationalmap.gov/arcgis/rest/services/USGSImageryOnly/MapServer/tile/{z}/{y}/{x}\"],\"sourcetype\":\"raster\"}],\"style\":\"white-bg\",\"zoom\":3},\"margin\":{\"t\":60},\"sliders\":[{\"active\":0,\"currentvalue\":{\"prefix\":\"year=\"},\"len\":0.9,\"pad\":{\"b\":10,\"t\":60},\"steps\":[{\"args\":[[\"2010\"],{\"frame\":{\"duration\":0,\"redraw\":true},\"fromcurrent\":true,\"mode\":\"immediate\",\"transition\":{\"duration\":0,\"easing\":\"linear\"}}],\"label\":\"2010\",\"method\":\"animate\"},{\"args\":[[\"2011\"],{\"frame\":{\"duration\":0,\"redraw\":true},\"fromcurrent\":true,\"mode\":\"immediate\",\"transition\":{\"duration\":0,\"easing\":\"linear\"}}],\"label\":\"2011\",\"method\":\"animate\"},{\"args\":[[\"2012\"],{\"frame\":{\"duration\":0,\"redraw\":true},\"fromcurrent\":true,\"mode\":\"immediate\",\"transition\":{\"duration\":0,\"easing\":\"linear\"}}],\"label\":\"2012\",\"method\":\"animate\"},{\"args\":[[\"2013\"],{\"frame\":{\"duration\":0,\"redraw\":true},\"fromcurrent\":true,\"mode\":\"immediate\",\"transition\":{\"duration\":0,\"easing\":\"linear\"}}],\"label\":\"2013\",\"method\":\"animate\"},{\"args\":[[\"2014\"],{\"frame\":{\"duration\":0,\"redraw\":true},\"fromcurrent\":true,\"mode\":\"immediate\",\"transition\":{\"duration\":0,\"easing\":\"linear\"}}],\"label\":\"2014\",\"method\":\"animate\"},{\"args\":[[\"2015\"],{\"frame\":{\"duration\":0,\"redraw\":true},\"fromcurrent\":true,\"mode\":\"immediate\",\"transition\":{\"duration\":0,\"easing\":\"linear\"}}],\"label\":\"2015\",\"method\":\"animate\"},{\"args\":[[\"2016\"],{\"frame\":{\"duration\":0,\"redraw\":true},\"fromcurrent\":true,\"mode\":\"immediate\",\"transition\":{\"duration\":0,\"easing\":\"linear\"}}],\"label\":\"2016\",\"method\":\"animate\"},{\"args\":[[\"2017\"],{\"frame\":{\"duration\":0,\"redraw\":true},\"fromcurrent\":true,\"mode\":\"immediate\",\"transition\":{\"duration\":0,\"easing\":\"linear\"}}],\"label\":\"2017\",\"method\":\"animate\"},{\"args\":[[\"2018\"],{\"frame\":{\"duration\":0,\"redraw\":true},\"fromcurrent\":true,\"mode\":\"immediate\",\"transition\":{\"duration\":0,\"easing\":\"linear\"}}],\"label\":\"2018\",\"method\":\"animate\"},{\"args\":[[\"2019\"],{\"frame\":{\"duration\":0,\"redraw\":true},\"fromcurrent\":true,\"mode\":\"immediate\",\"transition\":{\"duration\":0,\"easing\":\"linear\"}}],\"label\":\"2019\",\"method\":\"animate\"}],\"x\":0.1,\"xanchor\":\"left\",\"y\":0,\"yanchor\":\"top\"}],\"template\":{\"data\":{\"bar\":[{\"error_x\":{\"color\":\"#2a3f5f\"},\"error_y\":{\"color\":\"#2a3f5f\"},\"marker\":{\"line\":{\"color\":\"#E5ECF6\",\"width\":0.5},\"pattern\":{\"fillmode\":\"overlay\",\"size\":10,\"solidity\":0.2}},\"type\":\"bar\"}],\"barpolar\":[{\"marker\":{\"line\":{\"color\":\"#E5ECF6\",\"width\":0.5},\"pattern\":{\"fillmode\":\"overlay\",\"size\":10,\"solidity\":0.2}},\"type\":\"barpolar\"}],\"carpet\":[{\"aaxis\":{\"endlinecolor\":\"#2a3f5f\",\"gridcolor\":\"white\",\"linecolor\":\"white\",\"minorgridcolor\":\"white\",\"startlinecolor\":\"#2a3f5f\"},\"baxis\":{\"endlinecolor\":\"#2a3f5f\",\"gridcolor\":\"white\",\"linecolor\":\"white\",\"minorgridcolor\":\"white\",\"startlinecolor\":\"#2a3f5f\"},\"type\":\"carpet\"}],\"choropleth\":[{\"colorbar\":{\"outlinewidth\":0,\"ticks\":\"\"},\"type\":\"choropleth\"}],\"contour\":[{\"colorbar\":{\"outlinewidth\":0,\"ticks\":\"\"},\"colorscale\":[[0.0,\"#0d0887\"],[0.1111111111111111,\"#46039f\"],[0.2222222222222222,\"#7201a8\"],[0.3333333333333333,\"#9c179e\"],[0.4444444444444444,\"#bd3786\"],[0.5555555555555556,\"#d8576b\"],[0.6666666666666666,\"#ed7953\"],[0.7777777777777778,\"#fb9f3a\"],[0.8888888888888888,\"#fdca26\"],[1.0,\"#f0f921\"]],\"type\":\"contour\"}],\"contourcarpet\":[{\"colorbar\":{\"outlinewidth\":0,\"ticks\":\"\"},\"type\":\"contourcarpet\"}],\"heatmap\":[{\"colorbar\":{\"outlinewidth\":0,\"ticks\":\"\"},\"colorscale\":[[0.0,\"#0d0887\"],[0.1111111111111111,\"#46039f\"],[0.2222222222222222,\"#7201a8\"],[0.3333333333333333,\"#9c179e\"],[0.4444444444444444,\"#bd3786\"],[0.5555555555555556,\"#d8576b\"],[0.6666666666666666,\"#ed7953\"],[0.7777777777777778,\"#fb9f3a\"],[0.8888888888888888,\"#fdca26\"],[1.0,\"#f0f921\"]],\"type\":\"heatmap\"}],\"heatmapgl\":[{\"colorbar\":{\"outlinewidth\":0,\"ticks\":\"\"},\"colorscale\":[[0.0,\"#0d0887\"],[0.1111111111111111,\"#46039f\"],[0.2222222222222222,\"#7201a8\"],[0.3333333333333333,\"#9c179e\"],[0.4444444444444444,\"#bd3786\"],[0.5555555555555556,\"#d8576b\"],[0.6666666666666666,\"#ed7953\"],[0.7777777777777778,\"#fb9f3a\"],[0.8888888888888888,\"#fdca26\"],[1.0,\"#f0f921\"]],\"type\":\"heatmapgl\"}],\"histogram\":[{\"marker\":{\"pattern\":{\"fillmode\":\"overlay\",\"size\":10,\"solidity\":0.2}},\"type\":\"histogram\"}],\"histogram2d\":[{\"colorbar\":{\"outlinewidth\":0,\"ticks\":\"\"},\"colorscale\":[[0.0,\"#0d0887\"],[0.1111111111111111,\"#46039f\"],[0.2222222222222222,\"#7201a8\"],[0.3333333333333333,\"#9c179e\"],[0.4444444444444444,\"#bd3786\"],[0.5555555555555556,\"#d8576b\"],[0.6666666666666666,\"#ed7953\"],[0.7777777777777778,\"#fb9f3a\"],[0.8888888888888888,\"#fdca26\"],[1.0,\"#f0f921\"]],\"type\":\"histogram2d\"}],\"histogram2dcontour\":[{\"colorbar\":{\"outlinewidth\":0,\"ticks\":\"\"},\"colorscale\":[[0.0,\"#0d0887\"],[0.1111111111111111,\"#46039f\"],[0.2222222222222222,\"#7201a8\"],[0.3333333333333333,\"#9c179e\"],[0.4444444444444444,\"#bd3786\"],[0.5555555555555556,\"#d8576b\"],[0.6666666666666666,\"#ed7953\"],[0.7777777777777778,\"#fb9f3a\"],[0.8888888888888888,\"#fdca26\"],[1.0,\"#f0f921\"]],\"type\":\"histogram2dcontour\"}],\"mesh3d\":[{\"colorbar\":{\"outlinewidth\":0,\"ticks\":\"\"},\"type\":\"mesh3d\"}],\"parcoords\":[{\"line\":{\"colorbar\":{\"outlinewidth\":0,\"ticks\":\"\"}},\"type\":\"parcoords\"}],\"pie\":[{\"automargin\":true,\"type\":\"pie\"}],\"scatter\":[{\"marker\":{\"colorbar\":{\"outlinewidth\":0,\"ticks\":\"\"}},\"type\":\"scatter\"}],\"scatter3d\":[{\"line\":{\"colorbar\":{\"outlinewidth\":0,\"ticks\":\"\"}},\"marker\":{\"colorbar\":{\"outlinewidth\":0,\"ticks\":\"\"}},\"type\":\"scatter3d\"}],\"scattercarpet\":[{\"marker\":{\"colorbar\":{\"outlinewidth\":0,\"ticks\":\"\"}},\"type\":\"scattercarpet\"}],\"scattergeo\":[{\"marker\":{\"colorbar\":{\"outlinewidth\":0,\"ticks\":\"\"}},\"type\":\"scattergeo\"}],\"scattergl\":[{\"marker\":{\"colorbar\":{\"outlinewidth\":0,\"ticks\":\"\"}},\"type\":\"scattergl\"}],\"scattermapbox\":[{\"marker\":{\"colorbar\":{\"outlinewidth\":0,\"ticks\":\"\"}},\"type\":\"scattermapbox\"}],\"scatterpolar\":[{\"marker\":{\"colorbar\":{\"outlinewidth\":0,\"ticks\":\"\"}},\"type\":\"scatterpolar\"}],\"scatterpolargl\":[{\"marker\":{\"colorbar\":{\"outlinewidth\":0,\"ticks\":\"\"}},\"type\":\"scatterpolargl\"}],\"scatterternary\":[{\"marker\":{\"colorbar\":{\"outlinewidth\":0,\"ticks\":\"\"}},\"type\":\"scatterternary\"}],\"surface\":[{\"colorbar\":{\"outlinewidth\":0,\"ticks\":\"\"},\"colorscale\":[[0.0,\"#0d0887\"],[0.1111111111111111,\"#46039f\"],[0.2222222222222222,\"#7201a8\"],[0.3333333333333333,\"#9c179e\"],[0.4444444444444444,\"#bd3786\"],[0.5555555555555556,\"#d8576b\"],[0.6666666666666666,\"#ed7953\"],[0.7777777777777778,\"#fb9f3a\"],[0.8888888888888888,\"#fdca26\"],[1.0,\"#f0f921\"]],\"type\":\"surface\"}],\"table\":[{\"cells\":{\"fill\":{\"color\":\"#EBF0F8\"},\"line\":{\"color\":\"white\"}},\"header\":{\"fill\":{\"color\":\"#C8D4E3\"},\"line\":{\"color\":\"white\"}},\"type\":\"table\"}]},\"layout\":{\"annotationdefaults\":{\"arrowcolor\":\"#2a3f5f\",\"arrowhead\":0,\"arrowwidth\":1},\"autotypenumbers\":\"strict\",\"coloraxis\":{\"colorbar\":{\"outlinewidth\":0,\"ticks\":\"\"}},\"colorscale\":{\"diverging\":[[0,\"#8e0152\"],[0.1,\"#c51b7d\"],[0.2,\"#de77ae\"],[0.3,\"#f1b6da\"],[0.4,\"#fde0ef\"],[0.5,\"#f7f7f7\"],[0.6,\"#e6f5d0\"],[0.7,\"#b8e186\"],[0.8,\"#7fbc41\"],[0.9,\"#4d9221\"],[1,\"#276419\"]],\"sequential\":[[0.0,\"#0d0887\"],[0.1111111111111111,\"#46039f\"],[0.2222222222222222,\"#7201a8\"],[0.3333333333333333,\"#9c179e\"],[0.4444444444444444,\"#bd3786\"],[0.5555555555555556,\"#d8576b\"],[0.6666666666666666,\"#ed7953\"],[0.7777777777777778,\"#fb9f3a\"],[0.8888888888888888,\"#fdca26\"],[1.0,\"#f0f921\"]],\"sequentialminus\":[[0.0,\"#0d0887\"],[0.1111111111111111,\"#46039f\"],[0.2222222222222222,\"#7201a8\"],[0.3333333333333333,\"#9c179e\"],[0.4444444444444444,\"#bd3786\"],[0.5555555555555556,\"#d8576b\"],[0.6666666666666666,\"#ed7953\"],[0.7777777777777778,\"#fb9f3a\"],[0.8888888888888888,\"#fdca26\"],[1.0,\"#f0f921\"]]},\"colorway\":[\"#636efa\",\"#EF553B\",\"#00cc96\",\"#ab63fa\",\"#FFA15A\",\"#19d3f3\",\"#FF6692\",\"#B6E880\",\"#FF97FF\",\"#FECB52\"],\"font\":{\"color\":\"#2a3f5f\"},\"geo\":{\"bgcolor\":\"white\",\"lakecolor\":\"white\",\"landcolor\":\"#E5ECF6\",\"showlakes\":true,\"showland\":true,\"subunitcolor\":\"white\"},\"hoverlabel\":{\"align\":\"left\"},\"hovermode\":\"closest\",\"mapbox\":{\"style\":\"light\"},\"paper_bgcolor\":\"white\",\"plot_bgcolor\":\"#E5ECF6\",\"polar\":{\"angularaxis\":{\"gridcolor\":\"white\",\"linecolor\":\"white\",\"ticks\":\"\"},\"bgcolor\":\"#E5ECF6\",\"radialaxis\":{\"gridcolor\":\"white\",\"linecolor\":\"white\",\"ticks\":\"\"}},\"scene\":{\"xaxis\":{\"backgroundcolor\":\"#E5ECF6\",\"gridcolor\":\"white\",\"gridwidth\":2,\"linecolor\":\"white\",\"showbackground\":true,\"ticks\":\"\",\"zerolinecolor\":\"white\"},\"yaxis\":{\"backgroundcolor\":\"#E5ECF6\",\"gridcolor\":\"white\",\"gridwidth\":2,\"linecolor\":\"white\",\"showbackground\":true,\"ticks\":\"\",\"zerolinecolor\":\"white\"},\"zaxis\":{\"backgroundcolor\":\"#E5ECF6\",\"gridcolor\":\"white\",\"gridwidth\":2,\"linecolor\":\"white\",\"showbackground\":true,\"ticks\":\"\",\"zerolinecolor\":\"white\"}},\"shapedefaults\":{\"line\":{\"color\":\"#2a3f5f\"}},\"ternary\":{\"aaxis\":{\"gridcolor\":\"white\",\"linecolor\":\"white\",\"ticks\":\"\"},\"baxis\":{\"gridcolor\":\"white\",\"linecolor\":\"white\",\"ticks\":\"\"},\"bgcolor\":\"#E5ECF6\",\"caxis\":{\"gridcolor\":\"white\",\"linecolor\":\"white\",\"ticks\":\"\"}},\"title\":{\"x\":0.05},\"xaxis\":{\"automargin\":true,\"gridcolor\":\"white\",\"linecolor\":\"white\",\"ticks\":\"\",\"title\":{\"standoff\":15},\"zerolinecolor\":\"white\",\"zerolinewidth\":2},\"yaxis\":{\"automargin\":true,\"gridcolor\":\"white\",\"linecolor\":\"white\",\"ticks\":\"\",\"title\":{\"standoff\":15},\"zerolinecolor\":\"white\",\"zerolinewidth\":2}}},\"updatemenus\":[{\"buttons\":[{\"args\":[null,{\"frame\":{\"duration\":500,\"redraw\":true},\"fromcurrent\":true,\"mode\":\"immediate\",\"transition\":{\"duration\":500,\"easing\":\"linear\"}}],\"label\":\"&#9654;\",\"method\":\"animate\"},{\"args\":[[null],{\"frame\":{\"duration\":0,\"redraw\":true},\"fromcurrent\":true,\"mode\":\"immediate\",\"transition\":{\"duration\":0,\"easing\":\"linear\"}}],\"label\":\"&#9724;\",\"method\":\"animate\"}],\"direction\":\"left\",\"pad\":{\"r\":10,\"t\":70},\"showactive\":false,\"type\":\"buttons\",\"x\":0.1,\"xanchor\":\"right\",\"y\":0,\"yanchor\":\"top\"}],\"width\":900},                        {\"responsive\": true}                    ).then(function(){\n",
       "                            Plotly.addFrames('c3d680be-e6c9-4db2-b7e6-20787515c370', [{\"data\":[{\"customdata\":[[\"36 km WNW of Quirihue, Chile\",\"2010-02-27T06:34:11.530000\",-72.898,-36.122,22900.0,8.8,2010],[\"40 km WSW of Villa Basilio Nievas, Argentina\",\"2010-02-27T06:51:17.650000\",-69.141,-31.663,39800.0,6.0,2010],[\"54 km NNW of Constituci\\u00f3n, Chile\",\"2010-02-27T06:52:34.020000\",-72.614,-34.867,35000.0,6.2,2010],[\"44 km SW of San Antonio, Chile\",\"2010-02-27T07:12:28.450000\",-71.943,-33.878,35000.0,6.0,2010],[\"27 km NNW of Yumbel, Chile\",\"2010-02-27T07:37:17.960000\",-72.673,-36.869,35000.0,6.0,2010],[\"124 km W of Lebu, Chile\",\"2010-02-27T08:01:23.010000\",-75.048,-37.773,35000.0,7.4,2010],[\"64 km N of Constituci\\u00f3n, Chile\",\"2010-02-27T08:25:29.620000\",-72.427,-34.749,35000.0,6.1,2010],[\"15 km WSW of Ca\\u00f1ete, Chile\",\"2010-02-27T10:30:10\",-73.545,-37.878,20000.0,6.0,2010],[\"40 km SW of Valpara\\u00edso, Chile\",\"2010-02-27T10:30:36.400000\",-71.955,-33.281,35000.0,6.0,2010],[\"5 km NE of Campo Quijano, Argentina\",\"2010-02-27T15:45:37\",-65.602,-24.872,10000.0,6.3,2010],[\"36 km NW of Tom\\u00e9, Chile\",\"2010-02-27T17:24:30.590000\",-73.208,-36.354,19000.0,6.1,2010],[\"25 km NW of Cartagena, Chile\",\"2010-02-27T19:00:06.860000\",-71.828,-33.422,31100.0,6.2,2010],[\"42 km W of Santa Cruz, Chile\",\"2010-02-27T23:12:34.910000\",-71.827,-34.7,35000.0,6.0,2010],[\"27 km W of Rauco, Chile\",\"2010-02-28T11:25:35.920000\",-71.617,-34.903,46000.0,6.2,2010],[\"25 km WNW of Talcahuano, Chile\",\"2010-03-03T17:44:25.040000\",-73.36,-36.61,20000.0,6.1,2010],[\"50 km WSW of Valpara\\u00edso, Chile\",\"2010-03-04T01:59:48.670000\",-72.125,-33.216,24200.0,6.0,2010],[\"66 km ENE of Calama, Chile\",\"2010-03-04T22:39:26.530000\",-68.328,-22.227,114000.0,6.3,2010],[\"14 km NW of Talcahuano, Chile\",\"2010-03-05T09:19:36.380000\",-73.223,-36.631,29900.0,6.1,2010],[\"23 km WNW of Talcahuano, Chile\",\"2010-03-05T11:47:06.820000\",-73.374,-36.665,18000.0,6.6,2010],[\"61 km NW of Santa Cruz, Chile\",\"2010-03-11T14:39:43.950000\",-71.891,-34.29,11000.0,6.9,2010],[\"52 km NW of Santa Cruz, Chile\",\"2010-03-11T14:55:27.510000\",-71.799,-34.326,18000.0,7.0,2010],[\"61 km WNW of Santa Cruz, Chile\",\"2010-03-11T15:06:02.130000\",-72.004,-34.47,31500.0,6.0,2010],[\"76 km NW of Quirihue, Chile\",\"2010-03-15T11:08:28.960000\",-73.158,-35.802,14000.0,6.2,2010],[\"52 km NNW of Tom\\u00e9, Chile\",\"2010-03-16T02:21:57.940000\",-73.257,-36.217,18000.0,6.7,2010],[\"69 km N of Vallenar, Chile\",\"2010-03-26T14:52:07.230000\",-70.821,-27.953,42000.0,6.3,2010],[\"88 km W of Constituci\\u00f3n, Chile\",\"2010-03-28T21:38:28\",-73.385,-35.387,29900.0,6.0,2010],[\"30 km W of Quirihue, Chile\",\"2010-04-02T22:58:07.560000\",-72.878,-36.227,24000.0,6.0,2010],[\"26 km W of Nacimiento, Chile\",\"2010-04-23T10:03:06.180000\",-72.969,-37.529,32000.0,6.0,2010],[\"30 km S of Ca\\u00f1ete, Chile\",\"2010-05-03T23:09:44.790000\",-73.454,-38.072,19000.0,6.3,2010],[\"80 km ENE of Calama, Chile\",\"2010-07-12T00:11:21.250000\",-68.216,-22.146,115000.0,6.3,2010],[\"30 km SSE of Ca\\u00f1ete, Chile\",\"2010-07-14T08:32:21.490000\",-73.31,-38.067,22000.0,6.6,2010],[\"23 km WNW of Lota, Chile\",\"2010-09-09T07:28:01.720000\",-73.412,-37.034,16000.0,6.2,2010]],\"hovertemplate\":\"<b>%{hovertext}</b><br><br>year=%{customdata[6]}<br>mag=%{marker.color}<br>lat=%{customdata[3]}<br>lon=%{customdata[2]}<br>desc=%{customdata[0]}<br>time=%{customdata[1]}<br>depth=%{customdata[4]}<extra></extra>\",\"hovertext\":[\"36 km WNW of Quirihue, Chile\",\"40 km WSW of Villa Basilio Nievas, Argentina\",\"54 km NNW of Constituci\\u00f3n, Chile\",\"44 km SW of San Antonio, Chile\",\"27 km NNW of Yumbel, Chile\",\"124 km W of Lebu, Chile\",\"64 km N of Constituci\\u00f3n, Chile\",\"15 km WSW of Ca\\u00f1ete, Chile\",\"40 km SW of Valpara\\u00edso, Chile\",\"5 km NE of Campo Quijano, Argentina\",\"36 km NW of Tom\\u00e9, Chile\",\"25 km NW of Cartagena, Chile\",\"42 km W of Santa Cruz, Chile\",\"27 km W of Rauco, Chile\",\"25 km WNW of Talcahuano, Chile\",\"50 km WSW of Valpara\\u00edso, Chile\",\"66 km ENE of Calama, Chile\",\"14 km NW of Talcahuano, Chile\",\"23 km WNW of Talcahuano, Chile\",\"61 km NW of Santa Cruz, Chile\",\"52 km NW of Santa Cruz, Chile\",\"61 km WNW of Santa Cruz, Chile\",\"76 km NW of Quirihue, Chile\",\"52 km NNW of Tom\\u00e9, Chile\",\"69 km N of Vallenar, Chile\",\"88 km W of Constituci\\u00f3n, Chile\",\"30 km W of Quirihue, Chile\",\"26 km W of Nacimiento, Chile\",\"30 km S of Ca\\u00f1ete, Chile\",\"80 km ENE of Calama, Chile\",\"30 km SSE of Ca\\u00f1ete, Chile\",\"23 km WNW of Lota, Chile\"],\"lat\":[-36.122,-31.663,-34.867,-33.878,-36.869,-37.773,-34.749,-37.878,-33.281,-24.872,-36.354,-33.422,-34.7,-34.903,-36.61,-33.216,-22.227,-36.631,-36.665,-34.29,-34.326,-34.47,-35.802,-36.217,-27.953,-35.387,-36.227,-37.529,-38.072,-22.146,-38.067,-37.034],\"legendgroup\":\"\",\"lon\":[-72.898,-69.141,-72.614,-71.943,-72.673,-75.048,-72.427,-73.545,-71.955,-65.602,-73.208,-71.828,-71.827,-71.617,-73.36,-72.125,-68.328,-73.223,-73.374,-71.891,-71.799,-72.004,-73.158,-73.257,-70.821,-73.385,-72.878,-72.969,-73.454,-68.216,-73.31,-73.412],\"marker\":{\"color\":[8.8,6.0,6.2,6.0,6.0,7.4,6.1,6.0,6.0,6.3,6.1,6.2,6.0,6.2,6.1,6.0,6.3,6.1,6.6,6.9,7.0,6.0,6.2,6.7,6.3,6.0,6.0,6.0,6.3,6.3,6.6,6.2],\"coloraxis\":\"coloraxis\",\"size\":[8.8,6.0,6.2,6.0,6.0,7.4,6.1,6.0,6.0,6.3,6.1,6.2,6.0,6.2,6.1,6.0,6.3,6.1,6.6,6.9,7.0,6.0,6.2,6.7,6.3,6.0,6.0,6.0,6.3,6.3,6.6,6.2],\"sizemode\":\"area\",\"sizeref\":0.05207100591715977},\"mode\":\"markers\",\"name\":\"\",\"showlegend\":false,\"subplot\":\"mapbox\",\"type\":\"scattermapbox\"}],\"name\":\"2010\"},{\"data\":[{\"customdata\":[[\"26 km NNE of El Hoyo, Argentina\",\"2011-01-01T09:56:58.120000\",-63.136,-26.803,576800.0,7.0,2011],[\"42 km NNW of Carahue, Chile\",\"2011-01-02T20:20:17.780000\",-73.326,-38.355,24000.0,7.2,2011],[\"21 km N of Tom\\u00e9, Chile\",\"2011-02-11T20:05:30.910000\",-72.96,-36.422,26000.0,6.9,2011],[\"13 km SSE of Chiguayante, Chile\",\"2011-02-12T01:17:01.410000\",-72.954,-37.027,16000.0,6.1,2011],[\"9 km NNW of Talcahuano, Chile\",\"2011-02-13T10:35:06.740000\",-73.176,-36.649,17000.0,6.0,2011],[\"38 km W of Constituci\\u00f3n, Chile\",\"2011-02-14T03:40:09.920000\",-72.834,-35.38,21000.0,6.7,2011],[\"4 km NW of Lebu, Chile\",\"2011-06-01T12:55:22.380000\",-73.691,-37.578,21000.0,6.3,2011],[\"32 km SW of San Antonio, Chile\",\"2011-07-16T00:26:12.640000\",-71.832,-33.819,20000.0,6.0,2011],[\"20 km WNW of A\\u00f1atuya, Argentina\",\"2011-09-02T13:47:09.620000\",-63.029,-28.398,578900.0,6.7,2011],[\"76 km NNW of Vallenar, Chile\",\"2011-12-07T22:23:09.730000\",-70.918,-27.899,20000.0,6.1,2011]],\"hovertemplate\":\"<b>%{hovertext}</b><br><br>year=%{customdata[6]}<br>mag=%{marker.color}<br>lat=%{customdata[3]}<br>lon=%{customdata[2]}<br>desc=%{customdata[0]}<br>time=%{customdata[1]}<br>depth=%{customdata[4]}<extra></extra>\",\"hovertext\":[\"26 km NNE of El Hoyo, Argentina\",\"42 km NNW of Carahue, Chile\",\"21 km N of Tom\\u00e9, Chile\",\"13 km SSE of Chiguayante, Chile\",\"9 km NNW of Talcahuano, Chile\",\"38 km W of Constituci\\u00f3n, Chile\",\"4 km NW of Lebu, Chile\",\"32 km SW of San Antonio, Chile\",\"20 km WNW of A\\u00f1atuya, Argentina\",\"76 km NNW of Vallenar, Chile\"],\"lat\":[-26.803,-38.355,-36.422,-37.027,-36.649,-35.38,-37.578,-33.819,-28.398,-27.899],\"legendgroup\":\"\",\"lon\":[-63.136,-73.326,-72.96,-72.954,-73.176,-72.834,-73.691,-71.832,-63.029,-70.918],\"marker\":{\"color\":[7.0,7.2,6.9,6.1,6.0,6.7,6.3,6.0,6.7,6.1],\"coloraxis\":\"coloraxis\",\"size\":[7.0,7.2,6.9,6.1,6.0,6.7,6.3,6.0,6.7,6.1],\"sizemode\":\"area\",\"sizeref\":0.05207100591715977},\"mode\":\"markers\",\"name\":\"\",\"showlegend\":false,\"subplot\":\"mapbox\",\"type\":\"scattermapbox\"}],\"name\":\"2011\"},{\"data\":[{\"customdata\":[[\"24 km NNW of Tom\\u00e9, Chile\",\"2012-01-23T16:04:52.980000\",-73.03,-36.409,20000.0,6.1,2012],[\"37 km SSE of Suncho Corral, Argentina\",\"2012-03-05T07:46:10.040000\",-63.294,-28.246,553900.0,6.1,2012],[\"23 km NE of Constituci\\u00f3n, Chile\",\"2012-03-25T22:37:06\",-72.217,-35.2,40700.0,7.1,2012],[\"22 km NW of Hacienda La Calera, Chile\",\"2012-04-17T03:50:15.610000\",-71.365,-32.625,29000.0,6.7,2012],[\"35 km ESE of Suncho Corral, Argentina\",\"2012-05-28T05:07:23.450000\",-63.094,-28.043,586900.0,6.7,2012],[\"86 km ESE of Colb\\u00fan, Chile\",\"2012-06-07T04:05:04.520000\",-70.57,-36.074,8000.0,6.0,2012],[\"73 km SW of Vallenar, Chile\",\"2012-11-14T19:02:06.120000\",-71.19,-29.118,63000.0,6.1,2012]],\"hovertemplate\":\"<b>%{hovertext}</b><br><br>year=%{customdata[6]}<br>mag=%{marker.color}<br>lat=%{customdata[3]}<br>lon=%{customdata[2]}<br>desc=%{customdata[0]}<br>time=%{customdata[1]}<br>depth=%{customdata[4]}<extra></extra>\",\"hovertext\":[\"24 km NNW of Tom\\u00e9, Chile\",\"37 km SSE of Suncho Corral, Argentina\",\"23 km NE of Constituci\\u00f3n, Chile\",\"22 km NW of Hacienda La Calera, Chile\",\"35 km ESE of Suncho Corral, Argentina\",\"86 km ESE of Colb\\u00fan, Chile\",\"73 km SW of Vallenar, Chile\"],\"lat\":[-36.409,-28.246,-35.2,-32.625,-28.043,-36.074,-29.118],\"legendgroup\":\"\",\"lon\":[-73.03,-63.294,-72.217,-71.365,-63.094,-70.57,-71.19],\"marker\":{\"color\":[6.1,6.1,7.1,6.7,6.7,6.0,6.1],\"coloraxis\":\"coloraxis\",\"size\":[6.1,6.1,7.1,6.7,6.7,6.0,6.1],\"sizemode\":\"area\",\"sizeref\":0.05207100591715977},\"mode\":\"markers\",\"name\":\"\",\"showlegend\":false,\"subplot\":\"mapbox\",\"type\":\"scattermapbox\"}],\"name\":\"2012\"},{\"data\":[{\"customdata\":[[\"54 km N of Vallenar, Chile\",\"2013-01-30T20:15:43.340000\",-70.653,-28.094,45000.0,6.8,2013],[\"32 km E of Suncho Corral, Argentina\",\"2013-02-22T12:01:58.200000\",-63.097,-27.932,575200.0,6.1,2013],[\"89 km W of Constituci\\u00f3n, Chile\",\"2013-10-30T02:51:47\",-73.395,-35.314,41500.0,6.2,2013],[\"41 km SSW of Coquimbo, Chile\",\"2013-10-31T23:03:59.720000\",-71.5215,-30.2921,27000.0,6.6,2013]],\"hovertemplate\":\"<b>%{hovertext}</b><br><br>year=%{customdata[6]}<br>mag=%{marker.color}<br>lat=%{customdata[3]}<br>lon=%{customdata[2]}<br>desc=%{customdata[0]}<br>time=%{customdata[1]}<br>depth=%{customdata[4]}<extra></extra>\",\"hovertext\":[\"54 km N of Vallenar, Chile\",\"32 km E of Suncho Corral, Argentina\",\"89 km W of Constituci\\u00f3n, Chile\",\"41 km SSW of Coquimbo, Chile\"],\"lat\":[-28.094,-27.932,-35.314,-30.2921],\"legendgroup\":\"\",\"lon\":[-70.653,-63.097,-73.395,-71.5215],\"marker\":{\"color\":[6.8,6.1,6.2,6.6],\"coloraxis\":\"coloraxis\",\"size\":[6.8,6.1,6.2,6.6],\"sizemode\":\"area\",\"sizeref\":0.05207100591715977},\"mode\":\"markers\",\"name\":\"\",\"showlegend\":false,\"subplot\":\"mapbox\",\"type\":\"scattermapbox\"}],\"name\":\"2013\"},{\"data\":[{\"customdata\":[[\"23 km WNW of Hacienda La Calera, Chile\",\"2014-08-23T22:32:23.320000\",-71.4416,-32.6953,32000.0,6.4,2014],[\"56 km NW of San Antonio de los Cobres, Argentina\",\"2014-09-24T11:16:15.010000\",-66.6321,-23.8009,224000.0,6.2,2014]],\"hovertemplate\":\"<b>%{hovertext}</b><br><br>year=%{customdata[6]}<br>mag=%{marker.color}<br>lat=%{customdata[3]}<br>lon=%{customdata[2]}<br>desc=%{customdata[0]}<br>time=%{customdata[1]}<br>depth=%{customdata[4]}<extra></extra>\",\"hovertext\":[\"23 km WNW of Hacienda La Calera, Chile\",\"56 km NW of San Antonio de los Cobres, Argentina\"],\"lat\":[-32.6953,-23.8009],\"legendgroup\":\"\",\"lon\":[-71.4416,-66.6321],\"marker\":{\"color\":[6.4,6.2],\"coloraxis\":\"coloraxis\",\"size\":[6.4,6.2],\"sizemode\":\"area\",\"sizeref\":0.05207100591715977},\"mode\":\"markers\",\"name\":\"\",\"showlegend\":false,\"subplot\":\"mapbox\",\"type\":\"scattermapbox\"}],\"name\":\"2014\"},{\"data\":[{\"customdata\":[[\"63 km W of Villa General Roca, Argentina\",\"2015-02-02T10:49:48.530000\",-67.1231,-32.7183,172000.0,6.3,2015],[\"103 km W of El Aguilar, Argentina\",\"2015-02-11T18:57:22.460000\",-66.688,-23.1125,223000.0,6.7,2015],[\"75 km NW of Tom\\u00e9, Chile\",\"2015-03-18T18:27:29.500000\",-73.5219,-36.1167,13000.0,6.2,2015],[\"50 km E of Calama, Chile\",\"2015-06-10T13:52:09.770000\",-68.4323,-22.4,124000.0,6.0,2015],[\"74 km WNW of Talcahuano, Chile\",\"2015-06-20T02:10:07.100000\",-73.812,-36.3601,11000.0,6.4,2015],[\"48 km W of Illapel, Chile\",\"2015-09-16T22:54:32.860000\",-71.6744,-31.5729,22440.0,8.3,2015],[\"54 km W of Illapel, Chile\",\"2015-09-16T22:59:15\",-71.745,-31.618,26700.0,6.4,2015],[\"55 km WSW of Illapel, Chile\",\"2015-09-16T23:03:56.560000\",-71.7425,-31.7502,19100.0,6.1,2015],[\"71 km W of Illapel, Chile\",\"2015-09-16T23:16:09.440000\",-71.9189,-31.6,35000.0,6.1,2015],[\"25 km WNW of Illapel, Chile\",\"2015-09-16T23:18:41.850000\",-71.4262,-31.5622,28410.0,7.0,2015],[\"70 km SW of Ovalle, Chile\",\"2015-09-17T01:41:05.870000\",-71.6504,-31.1043,42320.0,6.4,2015],[\"54 km WNW of Illapel, Chile\",\"2015-09-17T03:55:15.430000\",-71.6876,-31.4244,27000.0,6.5,2015],[\"61 km WNW of Illapel, Chile\",\"2015-09-17T04:10:27.780000\",-71.804,-31.5173,23000.0,6.7,2015],[\"92 km NW of Valpara\\u00edso, Chile\",\"2015-09-18T09:10:44.730000\",-72.2292,-32.3681,8000.0,6.2,2015],[\"79 km WNW of Coquimbo, Chile\",\"2015-09-19T05:06:47.500000\",-72.077,-29.6411,6000.0,6.1,2015],[\"79 km W of La Ligua, Chile\",\"2015-09-19T12:52:20.920000\",-72.0629,-32.3335,18000.0,6.2,2015],[\"54 km W of Illapel, Chile\",\"2015-09-21T05:39:34.910000\",-71.7431,-31.5757,30000.0,6.1,2015],[\"22 km WSW of Illapel, Chile\",\"2015-09-21T17:40:00.060000\",-71.3792,-31.7275,35000.0,6.6,2015],[\"22 km NNW of Illapel, Chile\",\"2015-09-22T07:13:00.520000\",-71.2653,-31.4441,58000.0,6.0,2015],[\"26 km SSW of Ovalle, Chile\",\"2015-09-26T02:51:18.830000\",-71.3217,-30.8148,46000.0,6.3,2015],[\"107 km WNW of Coquimbo, Chile\",\"2015-11-07T07:04:31.380000\",-72.3015,-29.4642,13000.0,6.2,2015],[\"39 km SW of Ovalle, Chile\",\"2015-11-07T07:31:43.870000\",-71.4519,-30.8796,46000.0,6.8,2015],[\"81 km NW of Coquimbo, Chile\",\"2015-11-11T01:54:38.570000\",-72.0068,-29.5067,12000.0,6.9,2015],[\"85 km NW of Coquimbo, Chile\",\"2015-11-11T02:46:19.830000\",-72.0585,-29.5097,10000.0,6.9,2015],[\"65 km N of Taltal, Chile\",\"2015-11-27T21:00:22.920000\",-70.6009,-24.828,34000.0,6.2,2015]],\"hovertemplate\":\"<b>%{hovertext}</b><br><br>year=%{customdata[6]}<br>mag=%{marker.color}<br>lat=%{customdata[3]}<br>lon=%{customdata[2]}<br>desc=%{customdata[0]}<br>time=%{customdata[1]}<br>depth=%{customdata[4]}<extra></extra>\",\"hovertext\":[\"63 km W of Villa General Roca, Argentina\",\"103 km W of El Aguilar, Argentina\",\"75 km NW of Tom\\u00e9, Chile\",\"50 km E of Calama, Chile\",\"74 km WNW of Talcahuano, Chile\",\"48 km W of Illapel, Chile\",\"54 km W of Illapel, Chile\",\"55 km WSW of Illapel, Chile\",\"71 km W of Illapel, Chile\",\"25 km WNW of Illapel, Chile\",\"70 km SW of Ovalle, Chile\",\"54 km WNW of Illapel, Chile\",\"61 km WNW of Illapel, Chile\",\"92 km NW of Valpara\\u00edso, Chile\",\"79 km WNW of Coquimbo, Chile\",\"79 km W of La Ligua, Chile\",\"54 km W of Illapel, Chile\",\"22 km WSW of Illapel, Chile\",\"22 km NNW of Illapel, Chile\",\"26 km SSW of Ovalle, Chile\",\"107 km WNW of Coquimbo, Chile\",\"39 km SW of Ovalle, Chile\",\"81 km NW of Coquimbo, Chile\",\"85 km NW of Coquimbo, Chile\",\"65 km N of Taltal, Chile\"],\"lat\":[-32.7183,-23.1125,-36.1167,-22.4,-36.3601,-31.5729,-31.618,-31.7502,-31.6,-31.5622,-31.1043,-31.4244,-31.5173,-32.3681,-29.6411,-32.3335,-31.5757,-31.7275,-31.4441,-30.8148,-29.4642,-30.8796,-29.5067,-29.5097,-24.828],\"legendgroup\":\"\",\"lon\":[-67.1231,-66.688,-73.5219,-68.4323,-73.812,-71.6744,-71.745,-71.7425,-71.9189,-71.4262,-71.6504,-71.6876,-71.804,-72.2292,-72.077,-72.0629,-71.7431,-71.3792,-71.2653,-71.3217,-72.3015,-71.4519,-72.0068,-72.0585,-70.6009],\"marker\":{\"color\":[6.3,6.7,6.2,6.0,6.4,8.3,6.4,6.1,6.1,7.0,6.4,6.5,6.7,6.2,6.1,6.2,6.1,6.6,6.0,6.3,6.2,6.8,6.9,6.9,6.2],\"coloraxis\":\"coloraxis\",\"size\":[6.3,6.7,6.2,6.0,6.4,8.3,6.4,6.1,6.1,7.0,6.4,6.5,6.7,6.2,6.1,6.2,6.1,6.6,6.0,6.3,6.2,6.8,6.9,6.9,6.2],\"sizemode\":\"area\",\"sizeref\":0.05207100591715977},\"mode\":\"markers\",\"name\":\"\",\"showlegend\":false,\"subplot\":\"mapbox\",\"type\":\"scattermapbox\"}],\"name\":\"2015\"},{\"data\":[{\"customdata\":[[\"37 km W of Ovalle, Chile\",\"2016-02-10T00:33:05.340000\",-71.5838,-30.5723,29000.0,6.3,2016],[\"105 km WSW of Coquimbo, Chile\",\"2016-02-22T06:36:59.400000\",-72.2967,-30.4242,12000.0,6.0,2016],[\"54 km WNW of Diego de Almagro, Chile\",\"2016-07-25T17:26:50.210000\",-70.5111,-26.1067,72000.0,6.1,2016],[\"88 km WSW of San Antonio, Chile\",\"2016-10-27T20:32:55.790000\",-72.5321,-33.7771,12570.0,6.0,2016],[\"21 km SE of Curic\\u00f3, Chile\",\"2016-11-04T16:20:44.440000\",-71.0457,-35.0945,90000.0,6.3,2016],[\"42 km WNW of Talcahuano, Chile\",\"2016-11-08T04:55:45.900000\",-73.5603,-36.5776,20000.0,6.0,2016],[\"7 km NNW of Pocito, Argentina\",\"2016-11-20T20:57:44\",-68.6259,-31.6226,108000.0,6.4,2016]],\"hovertemplate\":\"<b>%{hovertext}</b><br><br>year=%{customdata[6]}<br>mag=%{marker.color}<br>lat=%{customdata[3]}<br>lon=%{customdata[2]}<br>desc=%{customdata[0]}<br>time=%{customdata[1]}<br>depth=%{customdata[4]}<extra></extra>\",\"hovertext\":[\"37 km W of Ovalle, Chile\",\"105 km WSW of Coquimbo, Chile\",\"54 km WNW of Diego de Almagro, Chile\",\"88 km WSW of San Antonio, Chile\",\"21 km SE of Curic\\u00f3, Chile\",\"42 km WNW of Talcahuano, Chile\",\"7 km NNW of Pocito, Argentina\"],\"lat\":[-30.5723,-30.4242,-26.1067,-33.7771,-35.0945,-36.5776,-31.6226],\"legendgroup\":\"\",\"lon\":[-71.5838,-72.2967,-70.5111,-72.5321,-71.0457,-73.5603,-68.6259],\"marker\":{\"color\":[6.3,6.0,6.1,6.0,6.3,6.0,6.4],\"coloraxis\":\"coloraxis\",\"size\":[6.3,6.0,6.1,6.0,6.3,6.0,6.4],\"sizemode\":\"area\",\"sizeref\":0.05207100591715977},\"mode\":\"markers\",\"name\":\"\",\"showlegend\":false,\"subplot\":\"mapbox\",\"type\":\"scattermapbox\"}],\"name\":\"2016\"},{\"data\":[{\"customdata\":[[\"52 km NW of San Antonio de los Cobres, Argentina\",\"2017-02-18T12:10:17.970000\",-66.6592,-23.8613,222000.0,6.4,2017],[\"62 km SE of San Pedro de Atacama, Chile\",\"2017-04-15T08:19:43.390000\",-67.7225,-23.2653,155000.0,6.3,2017],[\"37 km W of Valpara\\u00edso, Chile\",\"2017-04-23T02:36:07.830000\",-72.0296,-33.0354,21000.0,6.0,2017],[\"40 km W of Valpara\\u00edso, Chile\",\"2017-04-24T21:38:30.820000\",-72.0617,-33.0375,28000.0,6.9,2017]],\"hovertemplate\":\"<b>%{hovertext}</b><br><br>year=%{customdata[6]}<br>mag=%{marker.color}<br>lat=%{customdata[3]}<br>lon=%{customdata[2]}<br>desc=%{customdata[0]}<br>time=%{customdata[1]}<br>depth=%{customdata[4]}<extra></extra>\",\"hovertext\":[\"52 km NW of San Antonio de los Cobres, Argentina\",\"62 km SE of San Pedro de Atacama, Chile\",\"37 km W of Valpara\\u00edso, Chile\",\"40 km W of Valpara\\u00edso, Chile\"],\"lat\":[-23.8613,-23.2653,-33.0354,-33.0375],\"legendgroup\":\"\",\"lon\":[-66.6592,-67.7225,-72.0296,-72.0617],\"marker\":{\"color\":[6.4,6.3,6.0,6.9],\"coloraxis\":\"coloraxis\",\"size\":[6.4,6.3,6.0,6.9],\"sizemode\":\"area\",\"sizeref\":0.05207100591715977},\"mode\":\"markers\",\"name\":\"\",\"showlegend\":false,\"subplot\":\"mapbox\",\"type\":\"scattermapbox\"}],\"name\":\"2017\"},{\"data\":[{\"customdata\":[[\"56 km SW of Ovalle, Chile\",\"2018-04-10T10:19:34.370000\",-71.5292,-31.0258,66000.0,6.2,2018]],\"hovertemplate\":\"<b>%{hovertext}</b><br><br>year=%{customdata[6]}<br>mag=%{marker.color}<br>lat=%{customdata[3]}<br>lon=%{customdata[2]}<br>desc=%{customdata[0]}<br>time=%{customdata[1]}<br>depth=%{customdata[4]}<extra></extra>\",\"hovertext\":[\"56 km SW of Ovalle, Chile\"],\"lat\":[-31.0258],\"legendgroup\":\"\",\"lon\":[-71.5292],\"marker\":{\"color\":[6.2],\"coloraxis\":\"coloraxis\",\"size\":[6.2],\"sizemode\":\"area\",\"sizeref\":0.05207100591715977},\"mode\":\"markers\",\"name\":\"\",\"showlegend\":false,\"subplot\":\"mapbox\",\"type\":\"scattermapbox\"}],\"name\":\"2018\"},{\"data\":[{\"customdata\":[[\"10 km SSW of Coquimbo, Chile\",\"2019-01-20T01:32:52.480000\",-71.3815,-30.0404,63000.0,6.7,2019],[\"72 km W of Coquimbo, Chile\",\"2019-06-14T00:19:12.401000\",-72.0819,-30.0557,11000.0,6.4,2019],[\"96 km SW of San Antonio, Chile\",\"2019-08-01T18:28:07.270000\",-72.3102,-34.2364,25000.0,6.8,2019],[\"30 km W of Villa La Angostura, Argentina\",\"2019-09-26T16:36:18.155000\",-71.9993,-40.8145,129000.0,6.1,2019],[\"70 km WSW of Constituci\\u00f3n, Chile\",\"2019-09-29T15:57:53.236000\",-73.163,-35.4758,11000.0,6.7,2019],[\"29 km SW of Illapel, Chile\",\"2019-11-04T21:53:25.320000\",-71.3753,-31.8362,53000.0,6.1,2019],[\"16 km WNW of El Hoyo, Argentina\",\"2019-12-24T16:43:33.420000\",-63.3857,-26.964,572440.0,6.0,2019]],\"hovertemplate\":\"<b>%{hovertext}</b><br><br>year=%{customdata[6]}<br>mag=%{marker.color}<br>lat=%{customdata[3]}<br>lon=%{customdata[2]}<br>desc=%{customdata[0]}<br>time=%{customdata[1]}<br>depth=%{customdata[4]}<extra></extra>\",\"hovertext\":[\"10 km SSW of Coquimbo, Chile\",\"72 km W of Coquimbo, Chile\",\"96 km SW of San Antonio, Chile\",\"30 km W of Villa La Angostura, Argentina\",\"70 km WSW of Constituci\\u00f3n, Chile\",\"29 km SW of Illapel, Chile\",\"16 km WNW of El Hoyo, Argentina\"],\"lat\":[-30.0404,-30.0557,-34.2364,-40.8145,-35.4758,-31.8362,-26.964],\"legendgroup\":\"\",\"lon\":[-71.3815,-72.0819,-72.3102,-71.9993,-73.163,-71.3753,-63.3857],\"marker\":{\"color\":[6.7,6.4,6.8,6.1,6.7,6.1,6.0],\"coloraxis\":\"coloraxis\",\"size\":[6.7,6.4,6.8,6.1,6.7,6.1,6.0],\"sizemode\":\"area\",\"sizeref\":0.05207100591715977},\"mode\":\"markers\",\"name\":\"\",\"showlegend\":false,\"subplot\":\"mapbox\",\"type\":\"scattermapbox\"}],\"name\":\"2019\"}]);\n",
       "                        }).then(function(){\n",
       "                            \n",
       "var gd = document.getElementById('c3d680be-e6c9-4db2-b7e6-20787515c370');\n",
       "var x = new MutationObserver(function (mutations, observer) {{\n",
       "        var display = window.getComputedStyle(gd).display;\n",
       "        if (!display || display === 'none') {{\n",
       "            console.log([gd, 'removed!']);\n",
       "            Plotly.purge(gd);\n",
       "            observer.disconnect();\n",
       "        }}\n",
       "}});\n",
       "\n",
       "// Listen for the removal of the full notebook cells\n",
       "var notebookContainer = gd.closest('#notebook-container');\n",
       "if (notebookContainer) {{\n",
       "    x.observe(notebookContainer, {childList: true});\n",
       "}}\n",
       "\n",
       "// Listen for the clearing of the current output cell\n",
       "var outputEl = gd.closest('.output');\n",
       "if (outputEl) {{\n",
       "    x.observe(outputEl, {childList: true});\n",
       "}}\n",
       "\n",
       "                        })                };                });            </script>        </div>"
      ]
     },
     "metadata": {},
     "output_type": "display_data"
    }
   ],
   "source": [
    "import pandas as pd\n",
    "import plotly.express as px\n",
    "\n",
    "# Convert catalog to dataframe\n",
    "rows = []\n",
    "for event in catalog:\n",
    "    rows.append([\n",
    "        event.event_descriptions[0].text,\n",
    "        event.origins[0].time,\n",
    "        event.origins[0].longitude,\n",
    "        event.origins[0].latitude,\n",
    "        event.origins[0].depth,\n",
    "        event.magnitudes[0].mag\n",
    "    ])\n",
    "catalog_df = pd.DataFrame(rows, columns=['desc', 'time', 'lon', 'lat', 'depth', 'mag'])\n",
    "catalog_df = catalog_df.sort_values(by='time')\n",
    "catalog_df['year'] = catalog_df['time'].apply(lambda v: v.year)\n",
    "\n",
    "# Create map using plotly\n",
    "fig = px.scatter_mapbox(\n",
    "    catalog_df,\n",
    "    lat=\"lat\",\n",
    "    lon='lon',\n",
    "    hover_name=\"desc\",\n",
    "    hover_data=catalog_df.columns,\n",
    "    color=\"mag\",\n",
    "    size=\"mag\",\n",
    "    size_max=13,\n",
    "    range_color=[minmag, maxmag],\n",
    "    center=dict(lon=catalog_df.iloc[0]['lon'], \n",
    "             lat=catalog_df.iloc[0]['lat']),\n",
    "    zoom=3,\n",
    "    animation_frame=\"year\",\n",
    "    width=900,\n",
    "    height=800,\n",
    ")\n",
    "                     \n",
    "fig.update_layout(\n",
    "    mapbox_style=\"white-bg\",\n",
    "    mapbox_layers=[\n",
    "        {\n",
    "            \"below\": 'traces',\n",
    "            \"sourcetype\": \"raster\",\n",
    "            \"source\": [\"https://basemap.nationalmap.gov/arcgis/rest/services/USGSImageryOnly/MapServer/tile/{z}/{y}/{x}\"]\n",
    "        }\n",
    "    ]\n",
    ")\n",
    "fig.show()"
   ]
  },
  {
   "cell_type": "markdown",
   "metadata": {},
   "source": [
    "## Plotting waveforms"
   ]
  },
  {
   "cell_type": "code",
   "execution_count": 10,
   "metadata": {
    "id": "wQLXlGFR6hwU",
    "outputId": "94609b68-52a6-4fdc-e4d7-552a07dd718c",
    "scrolled": false
   },
   "outputs": [
    {
     "data": {
      "image/png": "[encoded data removed]",
      "text/plain": [
       "<Figure size 800x250 with 1 Axes>"
      ]
     },
     "metadata": {
      "needs_background": "light"
     },
     "output_type": "display_data"
    },
    {
     "data": {
      "image/png": "[encoded data removed]",
      "text/plain": [
       "<Figure size 800x250 with 1 Axes>"
      ]
     },
     "metadata": {
      "needs_background": "light"
     },
     "output_type": "display_data"
    },
    {
     "data": {
      "image/png": "[encoded data removed]",
      "text/plain": [
       "<Figure size 800x250 with 1 Axes>"
      ]
     },
     "metadata": {
      "needs_background": "light"
     },
     "output_type": "display_data"
    },
    {
     "data": {
      "image/png": "[encoded data removed]",
      "text/plain": [
       "<Figure size 800x250 with 1 Axes>"
      ]
     },
     "metadata": {
      "needs_background": "light"
     },
     "output_type": "display_data"
    },
    {
     "data": {
      "image/png": "[encoded data removed]",
      "text/plain": [
       "<Figure size 800x250 with 1 Axes>"
      ]
     },
     "metadata": {
      "needs_background": "light"
     },
     "output_type": "display_data"
    }
   ],
   "source": [
    "######write your codes here\n",
    "for tr in trall[:5]:\n",
    "    tr.plot();\n"
   ]
  },
  {
   "cell_type": "markdown",
   "metadata": {
    "id": "ijCoHhuq6hwU"
   },
   "source": [
    "### `seisgo.utils` also has a simple plotting function `plot_trace`. The current version of this plots the x-axis as the relative time starting from zero. It doesn't yet consider the absolute date and time.\n",
    "\n",
    "The default mode is \"subplot\". mode='overlap' will plot all traces on the same figure, which is useful for the purpose of comparison."
   ]
  },
  {
   "cell_type": "code",
   "execution_count": 107,
   "metadata": {
    "id": "3OKQUPYM6hwV",
    "outputId": "6d2f4c82-5cca-4d85-ad04-00a2c7d3ddbf"
   },
   "outputs": [
    {
     "name": "stdout",
     "output_type": "stream",
     "text": [
      "station NM.BLO\n",
      "station NM.BLO\n",
      "station NM.BLO\n",
      "station NM.BLO\n"
     ]
    },
    {
     "data": {
      "image/png": "[encoded data removed]",
      "text/plain": [
       "<Figure size 720x648 with 4 Axes>"
      ]
     },
     "metadata": {
      "needs_background": "light"
     },
     "output_type": "display_data"
    }
   ],
   "source": [
    "utils.plot_trace(trall[:4],mode='subplot') #"
   ]
  },
  {
   "cell_type": "code",
   "execution_count": null,
   "metadata": {
    "id": "hLFDgFiL6hwV"
   },
   "outputs": [],
   "source": []
  }
 ],
 "metadata": {
  "@webio": {
   "lastCommId": null,
   "lastKernelId": null
  },
  "colab": {
   "name": "get_earthquake_waveforms.ipynb",
   "provenance": []
  },
  "kernelspec": {
   "display_name": "Python [conda env:seisgo] *",
   "language": "python",
   "name": "conda-env-seisgo-py"
  },
  "language_info": {
   "codemirror_mode": {
    "name": "ipython",
    "version": 3
   },
   "file_extension": ".py",
   "mimetype": "text/x-python",
   "name": "python",
   "nbconvert_exporter": "python",
   "pygments_lexer": "ipython3",
   "version": "3.9.6"
  },
  "notify_time": "30",
  "varInspector": {
   "cols": {
    "lenName": 16,
    "lenType": 16,
    "lenVar": 40
   },
   "kernels_config": {
    "python": {
     "delete_cmd_postfix": "",
     "delete_cmd_prefix": "del ",
     "library": "var_list.py",
     "varRefreshCmd": "print(var_dic_list())"
    },
    "r": {
     "delete_cmd_postfix": ") ",
     "delete_cmd_prefix": "rm(",
     "library": "var_list.r",
     "varRefreshCmd": "cat(var_dic_list()) "
    }
   },
   "position": {
    "height": "486.390625px",
    "left": "1542.59375px",
    "right": "20px",
    "top": "121px",
    "width": "368.390625px"
   },
   "types_to_exclude": [
    "module",
    "function",
    "builtin_function_or_method",
    "instance",
    "_Feature"
   ],
   "window_display": true
  }
 },
 "nbformat": 4,
 "nbformat_minor": 1
}
